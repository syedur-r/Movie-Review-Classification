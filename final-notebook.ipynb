{
  "nbformat": 4,
  "nbformat_minor": 0,
  "metadata": {
    "kernelspec": {
      "display_name": "Python 3",
      "language": "python",
      "name": "python3"
    },
    "language_info": {
      "codemirror_mode": {
        "name": "ipython",
        "version": 3
      },
      "file_extension": ".py",
      "mimetype": "text/x-python",
      "name": "python",
      "nbconvert_exporter": "python",
      "pygments_lexer": "ipython3",
      "version": "3.8.5"
    },
    "colab": {
      "name": "AI CW1 - IMDB.ipynb",
      "provenance": [],
      "collapsed_sections": []
    }
  },
  "cells": [
    {
      "cell_type": "markdown",
      "metadata": {
        "id": "xgXlIjaRy2yD"
      },
      "source": [
        "# **Positive or Negative Movie Review Classification using Neural Networks**"
      ]
    },
    {
      "cell_type": "markdown",
      "metadata": {
        "id": "fBhu3TTuY3iC"
      },
      "source": [
        "## **Introduction**"
      ]
    },
    {
      "cell_type": "markdown",
      "metadata": {
        "id": "wPjkyfr7bh88"
      },
      "source": [
        "This project intends to use the IMDB dataset to solve the baseline model's overfitting problems and build successions of the model. I will be researching different hyperparameters and applying them to the model through trial and error, to see if the validation accuracy can be increased. This research will consist of, identifying the different activation functions (e.g. `relu`, `tanh` and `softmax`), identifying the different loss functions (e.g. `binary_crossentropy`, `mse`, and `mean_absolute_error`), experimenting with different optimizers e.g. `adam`, increasing/decreasing the number of hidden layers, and constantly tuning the learning rate. I will also be looking into preventing the risk of overfitting using L1/L2 regularization and adding dropout layers. Finally, once the hyperparameter modifications have been applied, I will be evaluating the optimal model for its optimal epochs and comparing it against the baseline model."
      ]
    },
    {
      "cell_type": "markdown",
      "metadata": {
        "id": "B8pYpZz3aP2u"
      },
      "source": [
        "## **Methodology**"
      ]
    },
    {
      "cell_type": "markdown",
      "metadata": {
        "id": "Q6H0ppUD6txO"
      },
      "source": [
        "### **4.5.1. Defining the Problem and Assembling a Dataset**"
      ]
    },
    {
      "cell_type": "markdown",
      "metadata": {
        "id": "X39v-TWj6nWb"
      },
      "source": [
        "This research is focused specifically on the IMDB (Internet Movie Database) dataset, a binary sentiment analysis dataset comprising of 50,000 movie reviews, which are evenly distributed as both training and testing data. The IMDB dataset is categorised into two different classes, positive and negative reviews. This research aims to investigate whether a deep learning model can be trained on the IMDB dataset and optimised, so it can accurately classify whether a movie review belongs to a positive or negative class.\n",
        "\n",
        "The input data consists of two variables: a label belonging to either a positive or negative class, and an array of text encoded as numbers. The problem being faced at hand is a binary classification problem, as one of the two classes are being predicted (positive and negative). We can hypothesise that the outputs can be predicted based on the given inputs, and that the availability of data is adequately useful to study the relationship between the inputs and outputs. "
      ]
    },
    {
      "cell_type": "markdown",
      "metadata": {
        "id": "lpQTljGB61Y3"
      },
      "source": [
        "### **4.5.2. Choosing Measure of Success**"
      ]
    },
    {
      "cell_type": "markdown",
      "metadata": {
        "id": "jnfQnyfA7DQx"
      },
      "source": [
        "The measure of success that will be used for this problem is accuracy, specifically classification accuracy. This type of accuracy involves the model making a prediction for each input in the dataset and comparing them against labels in the dataset i.e. positive or negative. The accuracy is then measured by the number of correct predictions divided by the number of overall predictions:\n",
        "\n",
        "***Accuracy = Correct Predictions ÷ Overall Predictions***\n",
        "\n",
        "Therefore, the choice of the loss function to be used for this problem is \"binary_crossentropy\" along with the \"accuracy\" metric since we are measuring accuracy. This loss function is ideal for this classification problem since we are only working with two classes, providing a high chance of achieving a low loss and high accuracy depending on how the model's hyperparameters have been tuned."
      ]
    },
    {
      "cell_type": "markdown",
      "metadata": {
        "id": "aZax7ew_61uR"
      },
      "source": [
        "### **4.5.3. Deciding on an Evaluation Protocol**"
      ]
    },
    {
      "cell_type": "markdown",
      "metadata": {
        "id": "USH68Cba7D_5"
      },
      "source": [
        "Since the IMDB dataset has a large availability of data, it makes sense to use hold-out validation. To have a good deep learning workflow, it is ideal, to begin with, a small model and then develop it until the data overfits. This will then put in place other systems of measure such as L1/L2 regularisation and dropout layers until the overfitting is reduced and an optimal model is achieved. Therefore, the IMDB dataset has been split into three sub-datasets: training, validation, and testing.\n",
        "\n",
        "The IMDB dataset has a total of 50,000 samples for both training and testing. Out of the 25,000 training samples, 10,000 review samples were extracted to construct the validation set. The other 15,000 review samples were used to construct the training set itself, whilst the 25,000 testing samples remained for testing and evaluating the final model.  The use of a validation set has been very beneficial during each iteration of developing and training the model, as it allowed metrics such as loss and accuracy to be displayed for both the training and validation dataset. These benchmark data were helpful in the decision-making process of how the model needed to be tuned, eventually leading to an optimal model."
      ]
    },
    {
      "cell_type": "markdown",
      "metadata": {
        "id": "OUHaUpUJ6_RB"
      },
      "source": [
        "### **4.5.4. Preparing the IMDB Dataset**"
      ]
    },
    {
      "cell_type": "markdown",
      "metadata": {
        "id": "9Pus8Cfw7EoS"
      },
      "source": [
        "Now that the dataset has been recognised along with the problem at hand, the aim for optimisation and the evaluation approach, we are one step closer to training the model. The last step is to prepare the IMDB dataset for training. As we can see from the cell below, the imdb is being imported directly from the tensorflow.keras.datasets library which means that the dataset has already been pre-processed. Each review has been represented as a sequence of words, and they have been encoded into a list of sequential integers where each index in the list represents a word.\n",
        "\n",
        "In the cell below, we can see that the imdb dataset is loaded with 10,000 samples of the most common reviews via list unpacking. Each of the four lists are represented as subsets within the imdb dataset. `train_data` represents a list of the 25,000 training samples in the form of integers, `train_labels` represents the 0 and 1 labels for the training data. These 0s and 1s belong to their respective class of a positive or negative review. `test_data` represents a list of the 25,000 test samples in the form of integers. Finally, `test_labels` represents the 0 and 1 labels for the test data. Formatting the data using this method enables it to be directly put into the deep learning model in a way that it is able to understand the data.\n",
        "\n",
        "Since a deep learning model is unable to recognise integers, the lists have been transformed through a process known as **vectorisation**. We are easily able to do this using the `vectorize_sequences` function. This helper function converts every review into a vector comprising of 10,000 zeros and then iterates through the vector to set their respective indices as 1. Once the training and testing data have been vectorised, they are then assigned onto variables known as `x_train` and `x_test`. Finally, the training and testing labels are assigned onto variables known as `y_train` and `y_test`, and then converted into a 32-bit floating point data type making it easier to feed the data into the deep learning model.\n"
      ]
    },
    {
      "cell_type": "code",
      "metadata": {
        "colab": {
          "base_uri": "https://localhost:8080/"
        },
        "id": "JW4MLywqE5hG",
        "outputId": "c5622406-8d14-48b2-8d11-caa7aff1c035"
      },
      "source": [
        "# IMDB\n",
        "from tensorflow.keras.datasets import imdb # importing imdb dataset\n",
        "import matplotlib.pyplot as plt # matlplotlib library allows visual representation of data\n",
        "import numpy as np # numpy library allows manipulation and computation of data e.g. resizing an array\n",
        "\n",
        "# these tensorflow libraries are essential for creating the model itself and adding weight regularization\n",
        "from tensorflow.keras import models, layers, optimizers, regularizers\n",
        "\n",
        "# load\n",
        "((train_data, train_labels), (test_data, test_labels)) = imdb.load_data(num_words = 10000)\n",
        "\n",
        "# helper function that decodes a review\n",
        "def review_decoder(training_data):\n",
        "  word_index = imdb.get_word_index() # retrieves the word to integer index mappings\n",
        "  reverse_word_index = dict([(value, key) for (key, value) in word_index.items()]) # mapping integer indexes to their specific words\n",
        "  decoded_review = ' '.join([reverse_word_index.get(i-3, '?') for i in training_data])\n",
        "  return decoded_review\n",
        "\n",
        "# # example of decoding a review and its respective label (positive=1, negative=0)\n",
        "print(\"Review: \" + str(review_decoder(train_data[15])))\n",
        "print(\"Label: \" + str(train_labels[15]))"
      ],
      "execution_count": null,
      "outputs": [
        {
          "output_type": "stream",
          "name": "stdout",
          "text": [
            "Review: ? a total waste of time just throw in a few explosions non stop fighting exotic cars a deranged millionaire slow motion computer generated car crashes and last but not least a hugh ? like character with wall to wall hot babes and mix in a ? and you will have this sorry excuse for a movie i really got a laugh out of the dr evil like heavily ? compound the plot was somewhere between preposterous and non existent how many ? are willing to make a 25 million dollar bet on a car race answer 4 but didn't they become ? through ? responsibility this was written for ? males it plays like a video game i did enjoy the ? ii landing in the desert though\n",
            "Label: 0\n"
          ]
        }
      ]
    },
    {
      "cell_type": "code",
      "metadata": {
        "id": "pN-1g4SDxy6q"
      },
      "source": [
        "# vectorisation function\n",
        "def vectorize_sequences(sequences, dimension = 10000):\n",
        "    results = np.zeros( (len(sequences), dimension) )\n",
        "    for i, sequence in enumerate(sequences):\n",
        "        results[i, sequence] = 1.\n",
        "    return results\n",
        "\n",
        "# preprocess\n",
        "x_train = vectorize_sequences(train_data)\n",
        "x_test = vectorize_sequences(test_data)\n",
        "\n",
        "y_train = np.asarray(train_labels).astype('float32')\n",
        "y_test = np.asarray(test_labels).astype('float32')\n",
        "\n",
        "\n",
        "# helper function for training the dataset\n",
        "def train_data(model, train_x, train_y, epoch, batches, val_x, val_y):\n",
        "  return model.fit(train_x, train_y, epochs=epoch, batch_size=batches, validation_data = (val_x, val_y))\n",
        "\n",
        "# helper function for plotting training/validation loss\n",
        "def plot_loss(history):\n",
        "  history_dict = history.history\n",
        "  loss = history_dict['loss']\n",
        "  val_loss = history_dict['val_loss']\n",
        "  epochs = range(1, len(loss) + 1)\n",
        "  blue_dots = 'bo'\n",
        "  solid_blue_line = 'b'\n",
        "\n",
        "  plt.plot(epochs, loss, blue_dots, label = 'Training loss')\n",
        "  plt.plot(epochs, val_loss, solid_blue_line, label = 'Validation loss')\n",
        "  plt.title('Training and validation loss')\n",
        "  plt.xlabel('Epochs')\n",
        "  plt.ylabel('Loss')\n",
        "  plt.legend()\n",
        "  plt.show()\n",
        "\n",
        "# helper function for plotting training/validation accuracy\n",
        "def plot_accuracy(history, acc, val_acc, epochs):\n",
        "  print('\\n') # creates a space between the training/validation loss graph and the training/validation accuracy graph\n",
        "  history_dict = history.history\n",
        "  history_dict['accuracy']\n",
        "  plt.clf()\n",
        "  blue_dots = 'bo'\n",
        "  solid_blue_line = 'b'\n",
        "      \n",
        "  plt.plot(epochs, acc, blue_dots, label = 'Training acc')\n",
        "  plt.plot(epochs, val_acc, solid_blue_line, label = 'Validation acc')\n",
        "  plt.title('Training and validation acc')\n",
        "  plt.xlabel('Epochs')\n",
        "  plt.ylabel('Accuracy')\n",
        "  plt.legend()\n",
        "  plt.show()"
      ],
      "execution_count": null,
      "outputs": []
    },
    {
      "cell_type": "markdown",
      "metadata": {
        "id": "8TgIKlztDBf_"
      },
      "source": [
        "### **4.5.5. Developing a model that does better than the baseline**"
      ]
    },
    {
      "cell_type": "markdown",
      "metadata": {
        "id": "gdLQTWGf7eiB"
      },
      "source": [
        "The purpose of the baseline model was to prove our hypotheses of predicting outputs based on the given inputs and having adequate data to learn the relationship between the inputs and the outputs. The baseline model was said to achieve an accuracy of 50%. The goal at this point is to achieve statistical power, in this case with the IMDB dataset, anything with an accuracy above 50% to be able to able to surpass common sense. If the developed model is unable to beat the baseline, it could be that the hypotheses were proven to be false.\n",
        "\n",
        "The baseline model was built upon the sequential architecture, which is a popular architecture for classification problems. The model consists of a total of three layers, two of which contain 16 units along with a `relu` activation function. The last layer contains 1 unit with a `sigmoid` activation function. This is very useful as it establishes useful constraints on the output of the model. In the case of this model, it is used to output a single possible value e.g. 0 or 1, which is needed since this is a binary classification problem.\n",
        "\n",
        "The optimiser function that was used in the baseline model, was `rmsprop` using a default learning rate. Optimiser functions are capable of having adjustable learning rates to reduce the risk of having a high loss. The loss function used was `binary_crossentropy`, which as previously mentioned, is ideal for this binary classification problem as the baseline is only working with two classes providing a greater chance of achieving low loss and high accuracy. Finally, the metric used was `accuracy`, since the baseline model was trying to measure accuracy.\n",
        "\n",
        "After the model had been built and compiled, it was then trained on the training set containing 10,000 samples, for 20 epochs and a batch size of 512. The `validation_data` parameter represented the validation dataset containing the metrics for both loss and accuracy."
      ]
    },
    {
      "cell_type": "markdown",
      "metadata": {
        "id": "Y7J1YL9Ay4Gx"
      },
      "source": [
        "### **Model 1: Replace the `binary_crossentropy` loss function with `mean_absolute_error`**"
      ]
    },
    {
      "cell_type": "code",
      "metadata": {
        "colab": {
          "base_uri": "https://localhost:8080/"
        },
        "id": "q9G9VHH5qmQd",
        "outputId": "d642a963-7a59-47d6-f372-b421964bba4d"
      },
      "source": [
        "# build\n",
        "model = models.Sequential()\n",
        "model.add(layers.Dense(16, activation = 'relu', input_shape = (10000,)))\n",
        "model.add(layers.Dense(16, activation = 'relu'))\n",
        "model.add(layers.Dense(1, activation = 'sigmoid'))\n",
        "\n",
        "model.compile(optimizer='rmsprop', loss='mean_absolute_error', metrics=['accuracy'])\n",
        "\n",
        "# train\n",
        "history_model_1 = train_data(model, \n",
        "           x_train[10000:], \n",
        "           y_train[10000:], \n",
        "           20, \n",
        "           512, \n",
        "           x_train[:10000], \n",
        "           y_train[:10000])"
      ],
      "execution_count": null,
      "outputs": [
        {
          "output_type": "stream",
          "name": "stdout",
          "text": [
            "Epoch 1/20\n",
            "30/30 [==============================] - 3s 88ms/step - loss: 0.3434 - accuracy: 0.7588 - val_loss: 0.2334 - val_accuracy: 0.8677\n",
            "Epoch 2/20\n",
            "30/30 [==============================] - 2s 56ms/step - loss: 0.1754 - accuracy: 0.8995 - val_loss: 0.1688 - val_accuracy: 0.8881\n",
            "Epoch 3/20\n",
            "30/30 [==============================] - 2s 53ms/step - loss: 0.1207 - accuracy: 0.9238 - val_loss: 0.1514 - val_accuracy: 0.8823\n",
            "Epoch 4/20\n",
            "30/30 [==============================] - 2s 57ms/step - loss: 0.0917 - accuracy: 0.9395 - val_loss: 0.1343 - val_accuracy: 0.8924\n",
            "Epoch 5/20\n",
            "30/30 [==============================] - 2s 65ms/step - loss: 0.0724 - accuracy: 0.9505 - val_loss: 0.1399 - val_accuracy: 0.8788\n",
            "Epoch 6/20\n",
            "30/30 [==============================] - 2s 58ms/step - loss: 0.0604 - accuracy: 0.9592 - val_loss: 0.1356 - val_accuracy: 0.8792\n",
            "Epoch 7/20\n",
            "30/30 [==============================] - 1s 50ms/step - loss: 0.0505 - accuracy: 0.9649 - val_loss: 0.1271 - val_accuracy: 0.8831\n",
            "Epoch 8/20\n",
            "30/30 [==============================] - 2s 57ms/step - loss: 0.0425 - accuracy: 0.9704 - val_loss: 0.1252 - val_accuracy: 0.8848\n",
            "Epoch 9/20\n",
            "30/30 [==============================] - 2s 61ms/step - loss: 0.0363 - accuracy: 0.9741 - val_loss: 0.1272 - val_accuracy: 0.8791\n",
            "Epoch 10/20\n",
            "30/30 [==============================] - 2s 61ms/step - loss: 0.0324 - accuracy: 0.9761 - val_loss: 0.1281 - val_accuracy: 0.8792\n",
            "Epoch 11/20\n",
            "30/30 [==============================] - 2s 51ms/step - loss: 0.0279 - accuracy: 0.9789 - val_loss: 0.1298 - val_accuracy: 0.8775\n",
            "Epoch 12/20\n",
            "30/30 [==============================] - 2s 57ms/step - loss: 0.0249 - accuracy: 0.9800 - val_loss: 0.1260 - val_accuracy: 0.8797\n",
            "Epoch 13/20\n",
            "30/30 [==============================] - 2s 51ms/step - loss: 0.0221 - accuracy: 0.9820 - val_loss: 0.1281 - val_accuracy: 0.8771\n",
            "Epoch 14/20\n",
            "30/30 [==============================] - 2s 63ms/step - loss: 0.0214 - accuracy: 0.9821 - val_loss: 0.1265 - val_accuracy: 0.8779\n",
            "Epoch 15/20\n",
            "30/30 [==============================] - 2s 54ms/step - loss: 0.0184 - accuracy: 0.9836 - val_loss: 0.1314 - val_accuracy: 0.8722\n",
            "Epoch 16/20\n",
            "30/30 [==============================] - 1s 50ms/step - loss: 0.0195 - accuracy: 0.9828 - val_loss: 0.1278 - val_accuracy: 0.8754\n",
            "Epoch 17/20\n",
            "30/30 [==============================] - 1s 50ms/step - loss: 0.0166 - accuracy: 0.9845 - val_loss: 0.1294 - val_accuracy: 0.8735\n",
            "Epoch 18/20\n",
            "30/30 [==============================] - 2s 51ms/step - loss: 0.0171 - accuracy: 0.9843 - val_loss: 0.1280 - val_accuracy: 0.8757\n",
            "Epoch 19/20\n",
            "30/30 [==============================] - 1s 50ms/step - loss: 0.0154 - accuracy: 0.9853 - val_loss: 0.1289 - val_accuracy: 0.8746\n",
            "Epoch 20/20\n",
            "30/30 [==============================] - 2s 56ms/step - loss: 0.0155 - accuracy: 0.9853 - val_loss: 0.1288 - val_accuracy: 0.8746\n"
          ]
        }
      ]
    },
    {
      "cell_type": "markdown",
      "metadata": {
        "id": "gFK7GtDY6PG9"
      },
      "source": [
        "### **Summary of Model 1**\n",
        "\n",
        "|Model Iteration:| Units:| Hidden Layers: |Optimizer:|Learning Rate:| L1 Val: | L2 Val: |Dropout Val:| Minimum Loss:| Maximum Accuracy:  |\n",
        "|:-----:|:-------:|:-------:|:-------:|:------:|:---:|:----:|:-------:|:--------:|:-------------:|\n",
        "|1  |16, 16, 1  |3  |rmsprop  |N/A  |N/A  |N/A  |N/A  |0.1252  |0.8924\n",
        "\n",
        "The outputs from the model 1 training data shows that the model was able to achieve a maximum accuracy of 0.8924 after 4 epochs as well as a minimum loss of 0.1252 after 8 epochs. This proves that the model has achieved statistical power, since it was greater than the basline accuracy of 0.5. However, the performance wasn't great as there were clear signs of overfitting."
      ]
    },
    {
      "cell_type": "markdown",
      "metadata": {
        "id": "O_5Y1YNgDQM9"
      },
      "source": [
        "### **4.5.6. Scaling up: Developing a model that overfits**"
      ]
    },
    {
      "cell_type": "markdown",
      "metadata": {
        "id": "xW1SbP2K7iAi"
      },
      "source": [
        "The baseline model achieved an accuracy of over 50%. However, it wasn’t sufficiently powerful enough. Although the baseline model had enough layers and parameters, it was clear that the model was overfitting, which means the model was not performing well. Therefore, in order to create a succession of the baseline, the loss function was replaced as an experiment to see if the performance could be improved. The aim of the next iteration was to  keep the loss to a minimum whilst maintaining high accuracy without overfitting. All the parameters from the baseline model were kept the same including the optimiser function. The loss function was replaced from `binary_crossentropy` to `mean_absolute_error`. After compiling the data again, the model was trained on the partial training set for the same number of epochs and the same batch size – ***Refer to Summary of Model 1 and Results***."
      ]
    },
    {
      "cell_type": "markdown",
      "metadata": {
        "id": "EmHzdHIe3ARt"
      },
      "source": [
        "### **Model 2: Replace the `mean_absolute_error` loss function with `mse`**"
      ]
    },
    {
      "cell_type": "code",
      "metadata": {
        "colab": {
          "base_uri": "https://localhost:8080/"
        },
        "id": "iKSUWQtp3ARt",
        "outputId": "746c9c4f-bbac-4293-fc44-aed8cf546fe2"
      },
      "source": [
        "# build\n",
        "model = models.Sequential()\n",
        "model.add(layers.Dense(16, activation = 'relu', input_shape = (10000,)))\n",
        "model.add(layers.Dense(16, activation = 'relu'))\n",
        "model.add(layers.Dense(1, activation = 'sigmoid'))\n",
        "\n",
        "model.compile(optimizer='rmsprop', loss='mse', metrics=['accuracy'])\n",
        "\n",
        "# train\n",
        "history_model_2 = train_data(model, \n",
        "           x_train[10000:], \n",
        "           y_train[10000:], \n",
        "           20, \n",
        "           512, \n",
        "           x_train[:10000], \n",
        "           y_train[:10000])"
      ],
      "execution_count": null,
      "outputs": [
        {
          "output_type": "stream",
          "name": "stdout",
          "text": [
            "Epoch 1/20\n",
            "30/30 [==============================] - 3s 91ms/step - loss: 0.1836 - accuracy: 0.7763 - val_loss: 0.1312 - val_accuracy: 0.8700\n",
            "Epoch 2/20\n",
            "30/30 [==============================] - 2s 50ms/step - loss: 0.1018 - accuracy: 0.9008 - val_loss: 0.0989 - val_accuracy: 0.8875\n",
            "Epoch 3/20\n",
            "30/30 [==============================] - 1s 49ms/step - loss: 0.0709 - accuracy: 0.9261 - val_loss: 0.0890 - val_accuracy: 0.8879\n",
            "Epoch 4/20\n",
            "30/30 [==============================] - 2s 63ms/step - loss: 0.0535 - accuracy: 0.9437 - val_loss: 0.0893 - val_accuracy: 0.8814\n",
            "Epoch 5/20\n",
            "30/30 [==============================] - 2s 54ms/step - loss: 0.0426 - accuracy: 0.9553 - val_loss: 0.0823 - val_accuracy: 0.8899\n",
            "Epoch 6/20\n",
            "30/30 [==============================] - 1s 49ms/step - loss: 0.0343 - accuracy: 0.9664 - val_loss: 0.0834 - val_accuracy: 0.8862\n",
            "Epoch 7/20\n",
            "30/30 [==============================] - 1s 49ms/step - loss: 0.0275 - accuracy: 0.9735 - val_loss: 0.0849 - val_accuracy: 0.8839\n",
            "Epoch 8/20\n",
            "30/30 [==============================] - 1s 49ms/step - loss: 0.0220 - accuracy: 0.9803 - val_loss: 0.0989 - val_accuracy: 0.8669\n",
            "Epoch 9/20\n",
            "30/30 [==============================] - 1s 49ms/step - loss: 0.0183 - accuracy: 0.9847 - val_loss: 0.0914 - val_accuracy: 0.8777\n",
            "Epoch 10/20\n",
            "30/30 [==============================] - 2s 53ms/step - loss: 0.0142 - accuracy: 0.9890 - val_loss: 0.0916 - val_accuracy: 0.8782\n",
            "Epoch 11/20\n",
            "30/30 [==============================] - 2s 58ms/step - loss: 0.0116 - accuracy: 0.9910 - val_loss: 0.0952 - val_accuracy: 0.8758\n",
            "Epoch 12/20\n",
            "30/30 [==============================] - 2s 50ms/step - loss: 0.0098 - accuracy: 0.9923 - val_loss: 0.0948 - val_accuracy: 0.8769\n",
            "Epoch 13/20\n",
            "30/30 [==============================] - 1s 49ms/step - loss: 0.0079 - accuracy: 0.9941 - val_loss: 0.0976 - val_accuracy: 0.8742\n",
            "Epoch 14/20\n",
            "30/30 [==============================] - 2s 55ms/step - loss: 0.0062 - accuracy: 0.9956 - val_loss: 0.1010 - val_accuracy: 0.8693\n",
            "Epoch 15/20\n",
            "30/30 [==============================] - 1s 49ms/step - loss: 0.0057 - accuracy: 0.9957 - val_loss: 0.1001 - val_accuracy: 0.8728\n",
            "Epoch 16/20\n",
            "30/30 [==============================] - 1s 49ms/step - loss: 0.0036 - accuracy: 0.9974 - val_loss: 0.1021 - val_accuracy: 0.8721\n",
            "Epoch 17/20\n",
            "30/30 [==============================] - 1s 48ms/step - loss: 0.0040 - accuracy: 0.9968 - val_loss: 0.1035 - val_accuracy: 0.8710\n",
            "Epoch 18/20\n",
            "30/30 [==============================] - 2s 52ms/step - loss: 0.0026 - accuracy: 0.9979 - val_loss: 0.1055 - val_accuracy: 0.8709\n",
            "Epoch 19/20\n",
            "30/30 [==============================] - 2s 56ms/step - loss: 0.0039 - accuracy: 0.9964 - val_loss: 0.1061 - val_accuracy: 0.8684\n",
            "Epoch 20/20\n",
            "30/30 [==============================] - 2s 54ms/step - loss: 0.0020 - accuracy: 0.9983 - val_loss: 0.1075 - val_accuracy: 0.8684\n"
          ]
        }
      ]
    },
    {
      "cell_type": "markdown",
      "metadata": {
        "id": "Zgthzkjbs5WD"
      },
      "source": [
        "### **Summary of Model 2**\n",
        "\n",
        "|Model Iteration:| Units:| Hidden Layers: |Optimizer:|Learning Rate:| L1 Val: | L2 Val: |Dropout Val:| Minimum Loss:| Maximum Accuracy:  |\n",
        "|:-----:|:-------:|:-------:|:-------:|:------:|:---:|:----:|:-------:|:--------:|:-------------:|\n",
        "|1  |16, 16, 1  |3  |rmsprop  |N/A  |N/A  |N/A  |N/A  |0.1252  |0.8924\n",
        "|2  |16, 16, 1  |3  |rmsprop  |N/A  |N/A  |N/A  |N/A  |0.0823  |0.8899\n",
        "\n",
        "The outputs from the model 2 training data shows that the model was able to achieve a maximum accuracy of 0.8899 after 5 epochs as well as a minimum loss of 0.0823 after 5 epochs. This shows that the loss for model 2 was better optimised than model 1. Therefore, the `mse` loss function will be used throughout all the other iterations."
      ]
    },
    {
      "cell_type": "markdown",
      "metadata": {
        "id": "Ied0c0dhdmTW"
      },
      "source": [
        "### **Model 3: Replace the `rmsprop` optimizer function with `adam`**"
      ]
    },
    {
      "cell_type": "code",
      "metadata": {
        "colab": {
          "base_uri": "https://localhost:8080/"
        },
        "id": "OAT5iAykgmjF",
        "outputId": "797e0be4-f763-410e-b511-40c140aff981"
      },
      "source": [
        "# build\n",
        "model = models.Sequential()\n",
        "model.add(layers.Dense(16, activation = 'relu', input_shape = (10000,)))\n",
        "model.add(layers.Dense(16, activation = 'relu'))\n",
        "model.add(layers.Dense(1, activation = 'sigmoid'))\n",
        "\n",
        "model.compile(optimizer='adam', loss='mse', metrics=['accuracy'])\n",
        "\n",
        "# train\n",
        "history_model_3 = train_data(model, \n",
        "           x_train[10000:], \n",
        "           y_train[10000:], \n",
        "           20, \n",
        "           512, \n",
        "           x_train[:10000], \n",
        "           y_train[:10000])"
      ],
      "execution_count": null,
      "outputs": [
        {
          "output_type": "stream",
          "name": "stdout",
          "text": [
            "Epoch 1/20\n",
            "30/30 [==============================] - 2s 61ms/step - loss: 0.1950 - accuracy: 0.7434 - val_loss: 0.1370 - val_accuracy: 0.8555\n",
            "Epoch 2/20\n",
            "30/30 [==============================] - 1s 41ms/step - loss: 0.0974 - accuracy: 0.9023 - val_loss: 0.0950 - val_accuracy: 0.8855\n",
            "Epoch 3/20\n",
            "30/30 [==============================] - 1s 35ms/step - loss: 0.0627 - accuracy: 0.9346 - val_loss: 0.0854 - val_accuracy: 0.8904\n",
            "Epoch 4/20\n",
            "30/30 [==============================] - 1s 42ms/step - loss: 0.0458 - accuracy: 0.9537 - val_loss: 0.0843 - val_accuracy: 0.8875\n",
            "Epoch 5/20\n",
            "30/30 [==============================] - 1s 44ms/step - loss: 0.0348 - accuracy: 0.9671 - val_loss: 0.0852 - val_accuracy: 0.8832\n",
            "Epoch 6/20\n",
            "30/30 [==============================] - 1s 36ms/step - loss: 0.0263 - accuracy: 0.9786 - val_loss: 0.0872 - val_accuracy: 0.8786\n",
            "Epoch 7/20\n",
            "30/30 [==============================] - 1s 35ms/step - loss: 0.0201 - accuracy: 0.9849 - val_loss: 0.0892 - val_accuracy: 0.8789\n",
            "Epoch 8/20\n",
            "30/30 [==============================] - 1s 35ms/step - loss: 0.0151 - accuracy: 0.9895 - val_loss: 0.0908 - val_accuracy: 0.8779\n",
            "Epoch 9/20\n",
            "30/30 [==============================] - 1s 35ms/step - loss: 0.0113 - accuracy: 0.9925 - val_loss: 0.0933 - val_accuracy: 0.8786\n",
            "Epoch 10/20\n",
            "30/30 [==============================] - 1s 39ms/step - loss: 0.0086 - accuracy: 0.9943 - val_loss: 0.0949 - val_accuracy: 0.8759\n",
            "Epoch 11/20\n",
            "30/30 [==============================] - 1s 46ms/step - loss: 0.0067 - accuracy: 0.9956 - val_loss: 0.0966 - val_accuracy: 0.8747\n",
            "Epoch 12/20\n",
            "30/30 [==============================] - 1s 38ms/step - loss: 0.0054 - accuracy: 0.9965 - val_loss: 0.0980 - val_accuracy: 0.8740\n",
            "Epoch 13/20\n",
            "30/30 [==============================] - 1s 45ms/step - loss: 0.0045 - accuracy: 0.9967 - val_loss: 0.0996 - val_accuracy: 0.8725\n",
            "Epoch 14/20\n",
            "30/30 [==============================] - 1s 46ms/step - loss: 0.0040 - accuracy: 0.9969 - val_loss: 0.1004 - val_accuracy: 0.8719\n",
            "Epoch 15/20\n",
            "30/30 [==============================] - 1s 45ms/step - loss: 0.0037 - accuracy: 0.9971 - val_loss: 0.1014 - val_accuracy: 0.8709\n",
            "Epoch 16/20\n",
            "30/30 [==============================] - 1s 46ms/step - loss: 0.0034 - accuracy: 0.9972 - val_loss: 0.1022 - val_accuracy: 0.8706\n",
            "Epoch 17/20\n",
            "30/30 [==============================] - 1s 46ms/step - loss: 0.0032 - accuracy: 0.9973 - val_loss: 0.1029 - val_accuracy: 0.8704\n",
            "Epoch 18/20\n",
            "30/30 [==============================] - 1s 47ms/step - loss: 0.0030 - accuracy: 0.9973 - val_loss: 0.1031 - val_accuracy: 0.8704\n",
            "Epoch 19/20\n",
            "30/30 [==============================] - 1s 38ms/step - loss: 0.0029 - accuracy: 0.9974 - val_loss: 0.1037 - val_accuracy: 0.8703\n",
            "Epoch 20/20\n",
            "30/30 [==============================] - 1s 35ms/step - loss: 0.0028 - accuracy: 0.9975 - val_loss: 0.1041 - val_accuracy: 0.8705\n"
          ]
        }
      ]
    },
    {
      "cell_type": "markdown",
      "metadata": {
        "id": "JyGI7mCVtfFH"
      },
      "source": [
        "### **Summary of Model 3**\n",
        "\n",
        "|Model Iteration:| Units:| Hidden Layers: |Optimizer:|Learning Rate:| L1 Val: | L2 Val: |Dropout Val:| Minimum Loss:| Maximum Accuracy:  |\n",
        "|:-----:|:-------:|:-------:|:-------:|:------:|:---:|:----:|:-------:|:--------:|:-------------:|\n",
        "|1  |16, 16, 1  |3  |rmsprop  |N/A  |N/A  |N/A  |N/A  |0.1252  |0.8924\n",
        "|2  |16, 16, 1  |3  |rmsprop  |N/A  |N/A  |N/A  |N/A  |0.0823  |0.8899\n",
        "|3  |16, 16, 1  |3  |adam  |N/A  |N/A  |N/A  |N/A  |0.0843  |0.8904\n",
        "\n",
        "The outputs from the model 3 training data shows that the model was able to achieve a maximum accuracy of 0.8904 after 3 epochs as well as a minimum loss of 0.0843 after 4 epochs. Although, the loss is slightly greater than the previous iteration, the accuracy is greater. Therefore, the `adam` optimiser function will be retained throughout all the other iterations."
      ]
    },
    {
      "cell_type": "markdown",
      "metadata": {
        "id": "th8N561cEPVX"
      },
      "source": [
        "### **4.5.7. Regularizing the model and tuning the hyperparameters**"
      ]
    },
    {
      "cell_type": "markdown",
      "metadata": {
        "id": "yU87occ87jqi"
      },
      "source": [
        "After repeatedly modifying and training the model, it was evident that the model was still overfitting. This meant that the model had to be regularised and the parameters had to be tuned, so the model would neither overfit nor underfit, achieving an optimal model. There are several ways to regularise the model and tune the hyperparameters, these include:\n",
        " -\tAdding/Removing Layers\n",
        " -\tAdding L1/L2 Regularisation\n",
        " -\tAdding Dropout Layers\n",
        " -\tTrying out different number of units per layer\n",
        " -\tTrying out different learning rates of the optimiser (ideally somewhere between 0.1 and 0.01)\n",
        "\n",
        "The next iteration of the model tunes the hyperparameter by changing the learning rate of the optimiser function. By adjusting the learning rate, not only does it reduce the chances of the model overfitting, but it also has an effect on how quickly the model can arrive at its best accuracy – ***Refer to Summary of Model 4 and Results***."
      ]
    },
    {
      "cell_type": "markdown",
      "metadata": {
        "id": "5esvC54v4AjH"
      },
      "source": [
        "### **Model 4: Tune the learning rate to 0.001**"
      ]
    },
    {
      "cell_type": "code",
      "metadata": {
        "colab": {
          "base_uri": "https://localhost:8080/"
        },
        "id": "WsKDkNt_4AjH",
        "outputId": "6e6e0281-8090-4f3a-ea85-bbac733defa7"
      },
      "source": [
        "# build\n",
        "model = models.Sequential()\n",
        "model.add(layers.Dense(16, activation = 'relu', input_shape = (10000,)))\n",
        "model.add(layers.Dense(16, activation = 'relu'))\n",
        "model.add(layers.Dense(1, activation = 'sigmoid'))\n",
        "\n",
        "model.compile(optimizer=optimizers.Adam(learning_rate=0.001), loss='mse', metrics=['accuracy'])\n",
        "\n",
        "# train\n",
        "history_model_4 = train_data(model, \n",
        "           x_train[10000:], \n",
        "           y_train[10000:], \n",
        "           20, \n",
        "           512, \n",
        "           x_train[:10000], \n",
        "           y_train[:10000])"
      ],
      "execution_count": null,
      "outputs": [
        {
          "output_type": "stream",
          "name": "stdout",
          "text": [
            "Epoch 1/20\n",
            "30/30 [==============================] - 2s 59ms/step - loss: 0.2032 - accuracy: 0.7460 - val_loss: 0.1453 - val_accuracy: 0.8443\n",
            "Epoch 2/20\n",
            "30/30 [==============================] - 1s 46ms/step - loss: 0.1050 - accuracy: 0.8884 - val_loss: 0.0963 - val_accuracy: 0.8786\n",
            "Epoch 3/20\n",
            "30/30 [==============================] - 2s 57ms/step - loss: 0.0653 - accuracy: 0.9273 - val_loss: 0.0845 - val_accuracy: 0.8907\n",
            "Epoch 4/20\n",
            "30/30 [==============================] - 1s 37ms/step - loss: 0.0467 - accuracy: 0.9513 - val_loss: 0.0834 - val_accuracy: 0.8889\n",
            "Epoch 5/20\n",
            "30/30 [==============================] - 1s 42ms/step - loss: 0.0349 - accuracy: 0.9674 - val_loss: 0.0840 - val_accuracy: 0.8830\n",
            "Epoch 6/20\n",
            "30/30 [==============================] - 1s 37ms/step - loss: 0.0271 - accuracy: 0.9773 - val_loss: 0.0859 - val_accuracy: 0.8837\n",
            "Epoch 7/20\n",
            "30/30 [==============================] - 1s 36ms/step - loss: 0.0214 - accuracy: 0.9837 - val_loss: 0.0882 - val_accuracy: 0.8790\n",
            "Epoch 8/20\n",
            "30/30 [==============================] - 1s 39ms/step - loss: 0.0163 - accuracy: 0.9883 - val_loss: 0.0912 - val_accuracy: 0.8781\n",
            "Epoch 9/20\n",
            "30/30 [==============================] - 1s 46ms/step - loss: 0.0124 - accuracy: 0.9920 - val_loss: 0.0933 - val_accuracy: 0.8768\n",
            "Epoch 10/20\n",
            "30/30 [==============================] - 1s 38ms/step - loss: 0.0097 - accuracy: 0.9938 - val_loss: 0.0955 - val_accuracy: 0.8761\n",
            "Epoch 11/20\n",
            "30/30 [==============================] - 1s 45ms/step - loss: 0.0077 - accuracy: 0.9950 - val_loss: 0.0978 - val_accuracy: 0.8739\n",
            "Epoch 12/20\n",
            "30/30 [==============================] - 2s 56ms/step - loss: 0.0064 - accuracy: 0.9960 - val_loss: 0.0994 - val_accuracy: 0.8721\n",
            "Epoch 13/20\n",
            "30/30 [==============================] - 1s 47ms/step - loss: 0.0055 - accuracy: 0.9963 - val_loss: 0.1007 - val_accuracy: 0.8704\n",
            "Epoch 14/20\n",
            "30/30 [==============================] - 1s 47ms/step - loss: 0.0049 - accuracy: 0.9965 - val_loss: 0.1023 - val_accuracy: 0.8690\n",
            "Epoch 15/20\n",
            "30/30 [==============================] - 1s 45ms/step - loss: 0.0044 - accuracy: 0.9967 - val_loss: 0.1034 - val_accuracy: 0.8689\n",
            "Epoch 16/20\n",
            "30/30 [==============================] - 1s 46ms/step - loss: 0.0041 - accuracy: 0.9967 - val_loss: 0.1045 - val_accuracy: 0.8673\n",
            "Epoch 17/20\n",
            "30/30 [==============================] - 1s 45ms/step - loss: 0.0038 - accuracy: 0.9969 - val_loss: 0.1055 - val_accuracy: 0.8676\n",
            "Epoch 18/20\n",
            "30/30 [==============================] - 1s 39ms/step - loss: 0.0036 - accuracy: 0.9970 - val_loss: 0.1067 - val_accuracy: 0.8664\n",
            "Epoch 19/20\n",
            "30/30 [==============================] - 1s 36ms/step - loss: 0.0033 - accuracy: 0.9973 - val_loss: 0.1076 - val_accuracy: 0.8656\n",
            "Epoch 20/20\n",
            "30/30 [==============================] - 1s 34ms/step - loss: 0.0031 - accuracy: 0.9973 - val_loss: 0.1080 - val_accuracy: 0.8662\n"
          ]
        }
      ]
    },
    {
      "cell_type": "markdown",
      "metadata": {
        "id": "q3JltqhJNcsE"
      },
      "source": [
        "### **Summary of Model 4**\n",
        "\n",
        "|Model Iteration:| Units:| Hidden Layers: |Optimizer:|Learning Rate:| L1 Val: | L2 Val: |Dropout Val:| Minimum Loss:| Maximum Accuracy:  |\n",
        "|:-----:|:-------:|:-------:|:-------:|:------:|:---:|:----:|:-------:|:--------:|:-------------:|\n",
        "|1  |16, 16, 1  |3  |rmsprop  |N/A  |N/A  |N/A  |N/A  |0.1252  |0.8924\n",
        "|2  |16, 16, 1  |3  |rmsprop  |N/A  |N/A  |N/A  |N/A  |0.0823  |0.8899\n",
        "|3  |16, 16, 1  |3  |adam  |N/A  |N/A  |N/A  |N/A  |0.0843  |0.8904\n",
        "|4  |16, 16, 1  |3  |adam  |0.001  |N/A  |N/A  |N/A  |0.0834  |0.8907\n",
        "\n",
        "The outputs from the model 4 training data shows that the model was able to achieve a maximum accuracy of 0.8907 after 3 epochs as well as a minimum loss of 0.0834 after 4 epochs. This shows that tuning the learning rate has had a positive effect on the model, as the validation loss has been reduced and the validation accuracy has been increased."
      ]
    },
    {
      "cell_type": "markdown",
      "metadata": {
        "id": "6Vf4K7EV4aJK"
      },
      "source": [
        "### **Model 5: Increase units and layer 1 hyperparameter to 32**"
      ]
    },
    {
      "cell_type": "code",
      "metadata": {
        "colab": {
          "base_uri": "https://localhost:8080/"
        },
        "id": "6MK4cYNx4aJK",
        "outputId": "6b0eb209-eb14-4839-908c-346110cbde64"
      },
      "source": [
        "# build\n",
        "model = models.Sequential()\n",
        "model.add(layers.Dense(32, activation = 'relu', input_shape = (10000,)))\n",
        "model.add(layers.Dense(32, activation = 'relu'))\n",
        "model.add(layers.Dense(1, activation = 'sigmoid'))\n",
        "\n",
        "model.compile(optimizer=optimizers.Adam(learning_rate=0.001), loss='mse', metrics=['accuracy'])\n",
        "\n",
        "# train\n",
        "history_model_5 = train_data(model, \n",
        "           x_train[10000:], \n",
        "           y_train[10000:], \n",
        "           20, \n",
        "           512, \n",
        "           x_train[:10000], \n",
        "           y_train[:10000])"
      ],
      "execution_count": null,
      "outputs": [
        {
          "output_type": "stream",
          "name": "stdout",
          "text": [
            "Epoch 1/20\n",
            "30/30 [==============================] - 2s 63ms/step - loss: 0.1726 - accuracy: 0.7959 - val_loss: 0.1063 - val_accuracy: 0.8737\n",
            "Epoch 2/20\n",
            "30/30 [==============================] - 2s 54ms/step - loss: 0.0733 - accuracy: 0.9137 - val_loss: 0.0834 - val_accuracy: 0.8924\n",
            "Epoch 3/20\n",
            "30/30 [==============================] - 1s 45ms/step - loss: 0.0463 - accuracy: 0.9497 - val_loss: 0.0853 - val_accuracy: 0.8855\n",
            "Epoch 4/20\n",
            "30/30 [==============================] - 1s 42ms/step - loss: 0.0333 - accuracy: 0.9665 - val_loss: 0.0866 - val_accuracy: 0.8796\n",
            "Epoch 5/20\n",
            "30/30 [==============================] - 1s 45ms/step - loss: 0.0239 - accuracy: 0.9793 - val_loss: 0.0889 - val_accuracy: 0.8784\n",
            "Epoch 6/20\n",
            "30/30 [==============================] - 1s 46ms/step - loss: 0.0173 - accuracy: 0.9865 - val_loss: 0.0916 - val_accuracy: 0.8781\n",
            "Epoch 7/20\n",
            "30/30 [==============================] - 1s 43ms/step - loss: 0.0131 - accuracy: 0.9905 - val_loss: 0.0944 - val_accuracy: 0.8773\n",
            "Epoch 8/20\n",
            "30/30 [==============================] - 2s 54ms/step - loss: 0.0099 - accuracy: 0.9931 - val_loss: 0.0975 - val_accuracy: 0.8751\n",
            "Epoch 9/20\n",
            "30/30 [==============================] - 1s 45ms/step - loss: 0.0080 - accuracy: 0.9942 - val_loss: 0.0994 - val_accuracy: 0.8730\n",
            "Epoch 10/20\n",
            "30/30 [==============================] - 1s 42ms/step - loss: 0.0067 - accuracy: 0.9950 - val_loss: 0.1019 - val_accuracy: 0.8714\n",
            "Epoch 11/20\n",
            "30/30 [==============================] - 1s 46ms/step - loss: 0.0059 - accuracy: 0.9953 - val_loss: 0.1030 - val_accuracy: 0.8705\n",
            "Epoch 12/20\n",
            "30/30 [==============================] - 1s 45ms/step - loss: 0.0054 - accuracy: 0.9955 - val_loss: 0.1037 - val_accuracy: 0.8704\n",
            "Epoch 13/20\n",
            "30/30 [==============================] - 1s 43ms/step - loss: 0.0050 - accuracy: 0.9957 - val_loss: 0.1049 - val_accuracy: 0.8695\n",
            "Epoch 14/20\n",
            "30/30 [==============================] - 2s 52ms/step - loss: 0.0047 - accuracy: 0.9958 - val_loss: 0.1056 - val_accuracy: 0.8691\n",
            "Epoch 15/20\n",
            "30/30 [==============================] - 2s 53ms/step - loss: 0.0045 - accuracy: 0.9959 - val_loss: 0.1065 - val_accuracy: 0.8688\n",
            "Epoch 16/20\n",
            "30/30 [==============================] - 2s 53ms/step - loss: 0.0043 - accuracy: 0.9961 - val_loss: 0.1069 - val_accuracy: 0.8693\n",
            "Epoch 17/20\n",
            "30/30 [==============================] - 1s 45ms/step - loss: 0.0042 - accuracy: 0.9961 - val_loss: 0.1083 - val_accuracy: 0.8670\n",
            "Epoch 18/20\n",
            "30/30 [==============================] - 2s 63ms/step - loss: 0.0041 - accuracy: 0.9961 - val_loss: 0.1080 - val_accuracy: 0.8690\n",
            "Epoch 19/20\n",
            "30/30 [==============================] - 1s 50ms/step - loss: 0.0040 - accuracy: 0.9961 - val_loss: 0.1087 - val_accuracy: 0.8678\n",
            "Epoch 20/20\n",
            "30/30 [==============================] - 1s 48ms/step - loss: 0.0039 - accuracy: 0.9963 - val_loss: 0.1090 - val_accuracy: 0.8694\n"
          ]
        }
      ]
    },
    {
      "cell_type": "markdown",
      "metadata": {
        "id": "V1sxbH5JOJEy"
      },
      "source": [
        "### **Summary of Model 5**\n",
        "\n",
        "|Model Iteration:| Units:| Hidden Layers: |Optimizer:|Learning Rate:| L1 Value: | L2 Value: |Dropout Value:| Minimum Loss:| Maximum Accuracy:  |\n",
        "|:-----:|:-------:|:-------:|:-------:|:------:|:---:|:----:|:-------:|:--------:|:-------------:|\n",
        "|1  |16, 16, 1  |3  |rmsprop  |N/A  |N/A  |N/A  |N/A  |0.1252  |0.8924\n",
        "|2  |16, 16, 1  |3  |rmsprop  |N/A  |N/A  |N/A  |N/A  |0.0823  |0.8899\n",
        "|3  |16, 16, 1  |3  |adam  |N/A  |N/A  |N/A  |N/A  |0.0843  |0.8904\n",
        "|4  |16, 16, 1  |3  |adam  |0.001  |N/A  |N/A  |N/A  |0.0834  |0.8907\n",
        "|5  |32, 32, 1  |3  |adam  |0.001  |N/A  |N/A  |N/A  |0.0834  |0.8924\n",
        "\n",
        "The outputs from the model 5 training data shows that the model was able to achieve a maximum accuracy of 0.8924 after 2 epochs as well as a minimum loss of 0.0834 after 2 epochs. However, from that point onwards the validation loss started to increase while the accuracy started to decrease. This was a clear sign of the model overfitting. Therefore, the layer 1 hyperparameter will be reverted back to 16 units"
      ]
    },
    {
      "cell_type": "markdown",
      "metadata": {
        "id": "yAzCdljkhQBy"
      },
      "source": [
        "### **Model 6: Replace `relu` with `tanh` activation function**"
      ]
    },
    {
      "cell_type": "code",
      "metadata": {
        "colab": {
          "base_uri": "https://localhost:8080/"
        },
        "id": "TDuKb1ARleNv",
        "outputId": "e853e252-1ae4-4b5f-94e3-866faf1067dc"
      },
      "source": [
        "# build\n",
        "model = models.Sequential()\n",
        "model.add(layers.Dense(16, activation = 'tanh', input_shape = (10000,)))\n",
        "model.add(layers.Dense(16, activation = 'tanh'))\n",
        "model.add(layers.Dense(1, activation = 'sigmoid'))\n",
        "\n",
        "model.compile(optimizer=optimizers.Adam(learning_rate=0.001), loss='mse', metrics=['accuracy'])\n",
        "\n",
        "# train\n",
        "history_model_6 = train_data(model, \n",
        "           x_train[10000:], \n",
        "           y_train[10000:], \n",
        "           20, \n",
        "           512, \n",
        "           x_train[:10000], \n",
        "           y_train[:10000])"
      ],
      "execution_count": null,
      "outputs": [
        {
          "output_type": "stream",
          "name": "stdout",
          "text": [
            "Epoch 1/20\n",
            "30/30 [==============================] - 2s 57ms/step - loss: 0.1707 - accuracy: 0.7949 - val_loss: 0.1202 - val_accuracy: 0.8644\n",
            "Epoch 2/20\n",
            "30/30 [==============================] - 1s 38ms/step - loss: 0.0867 - accuracy: 0.9091 - val_loss: 0.0912 - val_accuracy: 0.8875\n",
            "Epoch 3/20\n",
            "30/30 [==============================] - 1s 39ms/step - loss: 0.0572 - accuracy: 0.9397 - val_loss: 0.0843 - val_accuracy: 0.8904\n",
            "Epoch 4/20\n",
            "30/30 [==============================] - 1s 36ms/step - loss: 0.0405 - accuracy: 0.9605 - val_loss: 0.0838 - val_accuracy: 0.8856\n",
            "Epoch 5/20\n",
            "30/30 [==============================] - 1s 36ms/step - loss: 0.0294 - accuracy: 0.9745 - val_loss: 0.0857 - val_accuracy: 0.8823\n",
            "Epoch 6/20\n",
            "30/30 [==============================] - 1s 42ms/step - loss: 0.0220 - accuracy: 0.9828 - val_loss: 0.0884 - val_accuracy: 0.8795\n",
            "Epoch 7/20\n",
            "30/30 [==============================] - 1s 45ms/step - loss: 0.0168 - accuracy: 0.9875 - val_loss: 0.0909 - val_accuracy: 0.8773\n",
            "Epoch 8/20\n",
            "30/30 [==============================] - 1s 37ms/step - loss: 0.0130 - accuracy: 0.9909 - val_loss: 0.0936 - val_accuracy: 0.8759\n",
            "Epoch 9/20\n",
            "30/30 [==============================] - 1s 35ms/step - loss: 0.0107 - accuracy: 0.9924 - val_loss: 0.0968 - val_accuracy: 0.8736\n",
            "Epoch 10/20\n",
            "30/30 [==============================] - 1s 39ms/step - loss: 0.0090 - accuracy: 0.9935 - val_loss: 0.0983 - val_accuracy: 0.8745\n",
            "Epoch 11/20\n",
            "30/30 [==============================] - 1s 46ms/step - loss: 0.0078 - accuracy: 0.9941 - val_loss: 0.0999 - val_accuracy: 0.8727\n",
            "Epoch 12/20\n",
            "30/30 [==============================] - 2s 57ms/step - loss: 0.0069 - accuracy: 0.9946 - val_loss: 0.1014 - val_accuracy: 0.8724\n",
            "Epoch 13/20\n",
            "30/30 [==============================] - 1s 41ms/step - loss: 0.0063 - accuracy: 0.9950 - val_loss: 0.1028 - val_accuracy: 0.8699\n",
            "Epoch 14/20\n",
            "30/30 [==============================] - 1s 36ms/step - loss: 0.0059 - accuracy: 0.9951 - val_loss: 0.1034 - val_accuracy: 0.8705\n",
            "Epoch 15/20\n",
            "30/30 [==============================] - 2s 54ms/step - loss: 0.0056 - accuracy: 0.9953 - val_loss: 0.1048 - val_accuracy: 0.8695\n",
            "Epoch 16/20\n",
            "30/30 [==============================] - 1s 47ms/step - loss: 0.0053 - accuracy: 0.9953 - val_loss: 0.1051 - val_accuracy: 0.8687\n",
            "Epoch 17/20\n",
            "30/30 [==============================] - 1s 42ms/step - loss: 0.0051 - accuracy: 0.9953 - val_loss: 0.1063 - val_accuracy: 0.8691\n",
            "Epoch 18/20\n",
            "30/30 [==============================] - 1s 44ms/step - loss: 0.0049 - accuracy: 0.9956 - val_loss: 0.1071 - val_accuracy: 0.8676\n",
            "Epoch 19/20\n",
            "30/30 [==============================] - 1s 44ms/step - loss: 0.0047 - accuracy: 0.9958 - val_loss: 0.1079 - val_accuracy: 0.8668\n",
            "Epoch 20/20\n",
            "30/30 [==============================] - 1s 41ms/step - loss: 0.0045 - accuracy: 0.9959 - val_loss: 0.1086 - val_accuracy: 0.8680\n"
          ]
        }
      ]
    },
    {
      "cell_type": "markdown",
      "metadata": {
        "id": "kGkxTolROtZ4"
      },
      "source": [
        "### **Summary of Model 6**\n",
        "\n",
        "|Model Iteration:| Units:| Hidden Layers: |Optimizer:|Learning Rate:| L1 Value: | L2 Value: |Dropout Value:| Minimum Loss:| Maximum Accuracy:  |\n",
        "|:-----:|:-------:|:-------:|:-------:|:------:|:---:|:----:|:-------:|:--------:|:-------------:|\n",
        "|1  |16, 16, 1  |3  |rmsprop  |N/A  |N/A  |N/A  |N/A  |0.1252  |0.8924\n",
        "|2  |16, 16, 1  |3  |rmsprop  |N/A  |N/A  |N/A  |N/A  |0.0823  |0.8899\n",
        "|3  |16, 16, 1  |3  |adam  |N/A  |N/A  |N/A  |N/A  |0.0843  |0.8904\n",
        "|4  |16, 16, 1  |3  |adam  |0.001  |N/A  |N/A  |N/A  |0.0834  |0.8907\n",
        "|5  |32, 32, 1  |3  |adam  |0.001  |N/A  |N/A  |N/A  |0.0834  |0.8924\n",
        "|6  |16, 16, 1  |3  |adam  |0.001  |N/A  |N/A  |N/A  |0.0838  |0.8904\n",
        "\n",
        "The outputs from the model 6 training data shows that the model was able to achieve a maximum accuracy of 0.8904 after 3 epochs as well as a minimum loss of 0.0838 after 4 epochs. However, after 5 epochs we can see that overfitting started to occur as the accuracy drastically reduced. Therefore, the `tanh` activation function will be reverted back to `relu`."
      ]
    },
    {
      "cell_type": "markdown",
      "metadata": {
        "id": "CMvQ1oDu566U"
      },
      "source": [
        "### **Model 7: Add L1 regularisation**"
      ]
    },
    {
      "cell_type": "code",
      "metadata": {
        "colab": {
          "base_uri": "https://localhost:8080/"
        },
        "id": "dpmvMOAL566U",
        "outputId": "17119b31-0167-4b1d-edd5-b3b75d79e3fe"
      },
      "source": [
        "# build\n",
        "model = models.Sequential()\n",
        "model.add(layers.Dense(16, activation = 'relu', kernel_regularizer=regularizers.l1(0.001), input_shape = (10000,)))\n",
        "model.add(layers.Dense(16, activation = 'relu', kernel_regularizer=regularizers.l1(0.001)))\n",
        "model.add(layers.Dense(1, activation = 'sigmoid'))\n",
        "\n",
        "model.compile(optimizer=optimizers.Adam(learning_rate=0.001), loss='mse', metrics=['accuracy'])\n",
        "\n",
        "# train\n",
        "history_model_7 = train_data(model, \n",
        "           x_train[10000:], \n",
        "           y_train[10000:], \n",
        "           20, \n",
        "           512, \n",
        "           x_train[:10000], \n",
        "           y_train[:10000])"
      ],
      "execution_count": null,
      "outputs": [
        {
          "output_type": "stream",
          "name": "stdout",
          "text": [
            "Epoch 1/20\n",
            "30/30 [==============================] - 2s 56ms/step - loss: 0.9710 - accuracy: 0.6693 - val_loss: 0.4278 - val_accuracy: 0.7736\n",
            "Epoch 2/20\n",
            "30/30 [==============================] - 1s 44ms/step - loss: 0.3314 - accuracy: 0.8081 - val_loss: 0.2818 - val_accuracy: 0.8059\n",
            "Epoch 3/20\n",
            "30/30 [==============================] - 1s 45ms/step - loss: 0.2642 - accuracy: 0.8237 - val_loss: 0.2517 - val_accuracy: 0.8300\n",
            "Epoch 4/20\n",
            "30/30 [==============================] - 1s 38ms/step - loss: 0.2440 - accuracy: 0.8370 - val_loss: 0.2389 - val_accuracy: 0.8365\n",
            "Epoch 5/20\n",
            "30/30 [==============================] - 1s 40ms/step - loss: 0.2325 - accuracy: 0.8478 - val_loss: 0.2313 - val_accuracy: 0.8424\n",
            "Epoch 6/20\n",
            "30/30 [==============================] - 1s 42ms/step - loss: 0.2240 - accuracy: 0.8531 - val_loss: 0.2216 - val_accuracy: 0.8486\n",
            "Epoch 7/20\n",
            "30/30 [==============================] - 1s 44ms/step - loss: 0.2165 - accuracy: 0.8560 - val_loss: 0.2161 - val_accuracy: 0.8517\n",
            "Epoch 8/20\n",
            "30/30 [==============================] - 1s 45ms/step - loss: 0.2100 - accuracy: 0.8605 - val_loss: 0.2115 - val_accuracy: 0.8521\n",
            "Epoch 9/20\n",
            "30/30 [==============================] - 1s 38ms/step - loss: 0.2040 - accuracy: 0.8639 - val_loss: 0.2056 - val_accuracy: 0.8572\n",
            "Epoch 10/20\n",
            "30/30 [==============================] - 1s 41ms/step - loss: 0.1987 - accuracy: 0.8689 - val_loss: 0.2020 - val_accuracy: 0.8604\n",
            "Epoch 11/20\n",
            "30/30 [==============================] - 1s 47ms/step - loss: 0.1944 - accuracy: 0.8709 - val_loss: 0.1969 - val_accuracy: 0.8638\n",
            "Epoch 12/20\n",
            "30/30 [==============================] - 1s 38ms/step - loss: 0.1901 - accuracy: 0.8733 - val_loss: 0.1941 - val_accuracy: 0.8633\n",
            "Epoch 13/20\n",
            "30/30 [==============================] - 1s 46ms/step - loss: 0.1855 - accuracy: 0.8757 - val_loss: 0.1911 - val_accuracy: 0.8645\n",
            "Epoch 14/20\n",
            "30/30 [==============================] - 1s 47ms/step - loss: 0.1811 - accuracy: 0.8811 - val_loss: 0.1861 - val_accuracy: 0.8683\n",
            "Epoch 15/20\n",
            "30/30 [==============================] - 1s 46ms/step - loss: 0.1768 - accuracy: 0.8841 - val_loss: 0.1838 - val_accuracy: 0.8707\n",
            "Epoch 16/20\n",
            "30/30 [==============================] - 1s 40ms/step - loss: 0.1738 - accuracy: 0.8865 - val_loss: 0.1815 - val_accuracy: 0.8698\n",
            "Epoch 17/20\n",
            "30/30 [==============================] - 1s 48ms/step - loss: 0.1707 - accuracy: 0.8891 - val_loss: 0.1786 - val_accuracy: 0.8721\n",
            "Epoch 18/20\n",
            "30/30 [==============================] - 1s 40ms/step - loss: 0.1684 - accuracy: 0.8894 - val_loss: 0.1770 - val_accuracy: 0.8723\n",
            "Epoch 19/20\n",
            "30/30 [==============================] - 1s 36ms/step - loss: 0.1651 - accuracy: 0.8945 - val_loss: 0.1750 - val_accuracy: 0.8726\n",
            "Epoch 20/20\n",
            "30/30 [==============================] - 1s 36ms/step - loss: 0.1632 - accuracy: 0.8936 - val_loss: 0.1738 - val_accuracy: 0.8731\n"
          ]
        }
      ]
    },
    {
      "cell_type": "markdown",
      "metadata": {
        "id": "ZbBl7x7HPJFe"
      },
      "source": [
        "### **Summary of Model 7**\n",
        "\n",
        "|Model Iteration:| Units:| Hidden Layers: |Optimizer:|Learning Rate:| L1 Value: | L2 Value: |Dropout Value:| Minimum Loss:| Maximum Accuracy:  |\n",
        "|:-----:|:-------:|:-------:|:-------:|:------:|:---:|:----:|:-------:|:--------:|:-------------:|\n",
        "|1  |16, 16, 1  |3  |rmsprop  |N/A  |N/A  |N/A  |N/A  |0.1252  |0.8924\n",
        "|2  |16, 16, 1  |3  |rmsprop  |N/A  |N/A  |N/A  |N/A  |0.0823  |0.8899\n",
        "|3  |16, 16, 1  |3  |adam  |N/A  |N/A  |N/A  |N/A  |0.0843  |0.8904\n",
        "|4  |16, 16, 1  |3  |adam  |0.001  |N/A  |N/A  |N/A  |0.0834  |0.8907\n",
        "|5  |32, 32, 1  |3  |adam  |0.001  |N/A  |N/A  |N/A  |0.0834  |0.8924\n",
        "|6  |16, 16, 1  |3  |adam  |0.001  |N/A  |N/A  |N/A  |0.0838  |0.8904\n",
        "|7  |16, 16, 1  |3  |adam  |0.001  |0.001  |N/A  |N/A  |0.1738  |0.8731\n",
        "\n",
        "The outputs from the model 7 training data shows that the model was able to achieve a maximum accuracy of 0.8731 after 20 epochs as well as a minimum loss of 0.1738 after 20 epochs. This shows that overfitting has been reduced as the accuracy wasn't decreasing. However, based on the previous iterations this accuracy wasn't as great. We will be looking into more regularisation methods e.g. L2 regularisation."
      ]
    },
    {
      "cell_type": "markdown",
      "metadata": {
        "id": "R_YgJ-o06cXn"
      },
      "source": [
        "### **Model 8: Add L2 regularisation**"
      ]
    },
    {
      "cell_type": "code",
      "metadata": {
        "colab": {
          "base_uri": "https://localhost:8080/"
        },
        "id": "XnBt-GvE6cXn",
        "outputId": "7bcd43fa-f2bd-4465-a637-b483d985e8e8"
      },
      "source": [
        "# build\n",
        "model = models.Sequential()\n",
        "model.add(layers.Dense(16, activation = 'relu', kernel_regularizer=regularizers.l2(0.001), input_shape = (10000,)))\n",
        "model.add(layers.Dense(16, activation = 'relu', kernel_regularizer=regularizers.l2(0.001)))\n",
        "model.add(layers.Dense(1, activation = 'sigmoid'))\n",
        "\n",
        "model.compile(optimizer=optimizers.Adam(learning_rate=0.001), loss='mse', metrics=['accuracy'])\n",
        "\n",
        "# train\n",
        "history_model_8 = train_data(model, \n",
        "           x_train[10000:], \n",
        "           y_train[10000:], \n",
        "           20, \n",
        "           512, \n",
        "           x_train[:10000], \n",
        "           y_train[:10000])"
      ],
      "execution_count": null,
      "outputs": [
        {
          "output_type": "stream",
          "name": "stdout",
          "text": [
            "Epoch 1/20\n",
            "30/30 [==============================] - 2s 46ms/step - loss: 0.2266 - accuracy: 0.7463 - val_loss: 0.1668 - val_accuracy: 0.8527\n",
            "Epoch 2/20\n",
            "30/30 [==============================] - 1s 41ms/step - loss: 0.1331 - accuracy: 0.8989 - val_loss: 0.1331 - val_accuracy: 0.8818\n",
            "Epoch 3/20\n",
            "30/30 [==============================] - 2s 58ms/step - loss: 0.1065 - accuracy: 0.9252 - val_loss: 0.1253 - val_accuracy: 0.8845\n",
            "Epoch 4/20\n",
            "30/30 [==============================] - 1s 47ms/step - loss: 0.0951 - accuracy: 0.9374 - val_loss: 0.1219 - val_accuracy: 0.8857\n",
            "Epoch 5/20\n",
            "30/30 [==============================] - 1s 38ms/step - loss: 0.0879 - accuracy: 0.9476 - val_loss: 0.1209 - val_accuracy: 0.8815\n",
            "Epoch 6/20\n",
            "30/30 [==============================] - 1s 44ms/step - loss: 0.0822 - accuracy: 0.9568 - val_loss: 0.1211 - val_accuracy: 0.8815\n",
            "Epoch 7/20\n",
            "30/30 [==============================] - 1s 44ms/step - loss: 0.0784 - accuracy: 0.9606 - val_loss: 0.1208 - val_accuracy: 0.8800\n",
            "Epoch 8/20\n",
            "30/30 [==============================] - 1s 37ms/step - loss: 0.0751 - accuracy: 0.9628 - val_loss: 0.1213 - val_accuracy: 0.8795\n",
            "Epoch 9/20\n",
            "30/30 [==============================] - 1s 37ms/step - loss: 0.0725 - accuracy: 0.9659 - val_loss: 0.1205 - val_accuracy: 0.8805\n",
            "Epoch 10/20\n",
            "30/30 [==============================] - 1s 41ms/step - loss: 0.0707 - accuracy: 0.9658 - val_loss: 0.1218 - val_accuracy: 0.8793\n",
            "Epoch 11/20\n",
            "30/30 [==============================] - 1s 47ms/step - loss: 0.0696 - accuracy: 0.9677 - val_loss: 0.1217 - val_accuracy: 0.8776\n",
            "Epoch 12/20\n",
            "30/30 [==============================] - 1s 46ms/step - loss: 0.0675 - accuracy: 0.9696 - val_loss: 0.1239 - val_accuracy: 0.8723\n",
            "Epoch 13/20\n",
            "30/30 [==============================] - 1s 41ms/step - loss: 0.0650 - accuracy: 0.9734 - val_loss: 0.1229 - val_accuracy: 0.8750\n",
            "Epoch 14/20\n",
            "30/30 [==============================] - 1s 41ms/step - loss: 0.0631 - accuracy: 0.9761 - val_loss: 0.1236 - val_accuracy: 0.8730\n",
            "Epoch 15/20\n",
            "30/30 [==============================] - 1s 44ms/step - loss: 0.0621 - accuracy: 0.9776 - val_loss: 0.1256 - val_accuracy: 0.8694\n",
            "Epoch 16/20\n",
            "30/30 [==============================] - 1s 45ms/step - loss: 0.0620 - accuracy: 0.9761 - val_loss: 0.1247 - val_accuracy: 0.8722\n",
            "Epoch 17/20\n",
            "30/30 [==============================] - 1s 37ms/step - loss: 0.0605 - accuracy: 0.9773 - val_loss: 0.1245 - val_accuracy: 0.8720\n",
            "Epoch 18/20\n",
            "30/30 [==============================] - 1s 41ms/step - loss: 0.0588 - accuracy: 0.9797 - val_loss: 0.1248 - val_accuracy: 0.8730\n",
            "Epoch 19/20\n",
            "30/30 [==============================] - 1s 41ms/step - loss: 0.0573 - accuracy: 0.9811 - val_loss: 0.1248 - val_accuracy: 0.8702\n",
            "Epoch 20/20\n",
            "30/30 [==============================] - 1s 45ms/step - loss: 0.0575 - accuracy: 0.9795 - val_loss: 0.1260 - val_accuracy: 0.8717\n"
          ]
        }
      ]
    },
    {
      "cell_type": "markdown",
      "metadata": {
        "id": "ckZbVNCPPy66"
      },
      "source": [
        "### **Summary of Model 8**\n",
        "\n",
        "|Model Iteration:| Units:| Hidden Layers: |Optimizer:|Learning Rate:| L1 Value: | L2 Value: |Dropout Value:| Minimum Loss:| Maximum Accuracy:  |\n",
        "|:-----:|:-------:|:-------:|:-------:|:------:|:---:|:----:|:-------:|:--------:|:-------------:|\n",
        "|1  |16, 16, 1  |3  |rmsprop  |N/A  |N/A  |N/A  |N/A  |0.1252  |0.8924\n",
        "|2  |16, 16, 1  |3  |rmsprop  |N/A  |N/A  |N/A  |N/A  |0.0823  |0.8899\n",
        "|3  |16, 16, 1  |3  |adam  |N/A  |N/A  |N/A  |N/A  |0.0843  |0.8904\n",
        "|4  |16, 16, 1  |3  |adam  |0.001  |N/A  |N/A  |N/A  |0.0834  |0.8907\n",
        "|5  |32, 32, 1  |3  |adam  |0.001  |N/A  |N/A  |N/A  |0.0834  |0.8924\n",
        "|6  |16, 16, 1  |3  |adam  |0.001  |N/A  |N/A  |N/A  |0.0838  |0.8904\n",
        "|7  |16, 16, 1  |3  |adam  |0.001  |0.001  |N/A  |N/A  |0.1738  |0.8731\n",
        "|8  |16, 16, 1  |3  |adam  |0.001  |N/A  |0.001  |N/A  |0.1205  |0.8857\n",
        "\n",
        "The outputs from the model 8 training data shows that the model was able to achieve a maximum accuracy of 0.8857 after 4 epochs as well as a minimum loss of 0.1205 after 9 epochs. Although the accuracy is greater than the previous model, there are still clear signs of the model overfitting as the validation loss started to increase after 5 epochs whilst the accuracy starts to reduce after 4 epochs. Due to this, we will not be using L1/L2 regularisation in the next iteration."
      ]
    },
    {
      "cell_type": "markdown",
      "metadata": {
        "id": "dQuVoLelhRQM"
      },
      "source": [
        "### **Model 9: Add Dropout Layers and Tune the learning rate to 0.0005**"
      ]
    },
    {
      "cell_type": "code",
      "metadata": {
        "colab": {
          "base_uri": "https://localhost:8080/"
        },
        "id": "eqSDe6VFiMXd",
        "outputId": "a217ccb3-5ad5-4f1e-cf87-fe6c2100d196"
      },
      "source": [
        "# build\n",
        "model = models.Sequential()\n",
        "model.add(layers.Dense(16, activation = 'relu', input_shape = (10000,)))\n",
        "model.add(layers.Dropout(0.5))\n",
        "model.add(layers.Dense(16, activation = 'relu'))\n",
        "model.add(layers.Dropout(0.5))\n",
        "model.add(layers.Dense(1, activation = 'sigmoid'))\n",
        "\n",
        "model.compile(optimizer=optimizers.Adam(learning_rate=0.0005), loss='mse', metrics=['accuracy'])\n",
        "\n",
        "# train\n",
        "history_model_9 = train_data(model, \n",
        "           x_train[10000:], \n",
        "           y_train[10000:], \n",
        "           20, \n",
        "           512, \n",
        "           x_train[:10000], \n",
        "           y_train[:10000])"
      ],
      "execution_count": null,
      "outputs": [
        {
          "output_type": "stream",
          "name": "stdout",
          "text": [
            "Epoch 1/20\n",
            "30/30 [==============================] - 3s 72ms/step - loss: 0.2388 - accuracy: 0.5807 - val_loss: 0.2115 - val_accuracy: 0.7833\n",
            "Epoch 2/20\n",
            "30/30 [==============================] - 2s 57ms/step - loss: 0.2044 - accuracy: 0.6987 - val_loss: 0.1689 - val_accuracy: 0.8398\n",
            "Epoch 3/20\n",
            "30/30 [==============================] - 1s 49ms/step - loss: 0.1746 - accuracy: 0.7679 - val_loss: 0.1407 - val_accuracy: 0.8640\n",
            "Epoch 4/20\n",
            "30/30 [==============================] - 1s 42ms/step - loss: 0.1535 - accuracy: 0.8009 - val_loss: 0.1214 - val_accuracy: 0.8746\n",
            "Epoch 5/20\n",
            "30/30 [==============================] - 1s 40ms/step - loss: 0.1363 - accuracy: 0.8299 - val_loss: 0.1082 - val_accuracy: 0.8813\n",
            "Epoch 6/20\n",
            "30/30 [==============================] - 2s 61ms/step - loss: 0.1236 - accuracy: 0.8543 - val_loss: 0.0999 - val_accuracy: 0.8845\n",
            "Epoch 7/20\n",
            "30/30 [==============================] - 1s 39ms/step - loss: 0.1108 - accuracy: 0.8703 - val_loss: 0.0923 - val_accuracy: 0.8894\n",
            "Epoch 8/20\n",
            "30/30 [==============================] - 1s 41ms/step - loss: 0.1027 - accuracy: 0.8802 - val_loss: 0.0882 - val_accuracy: 0.8905\n",
            "Epoch 9/20\n",
            "30/30 [==============================] - 2s 59ms/step - loss: 0.0925 - accuracy: 0.8955 - val_loss: 0.0855 - val_accuracy: 0.8892\n",
            "Epoch 10/20\n",
            "30/30 [==============================] - 1s 46ms/step - loss: 0.0846 - accuracy: 0.9042 - val_loss: 0.0831 - val_accuracy: 0.8933\n",
            "Epoch 11/20\n",
            "30/30 [==============================] - 1s 42ms/step - loss: 0.0780 - accuracy: 0.9137 - val_loss: 0.0822 - val_accuracy: 0.8916\n",
            "Epoch 12/20\n",
            "30/30 [==============================] - 1s 41ms/step - loss: 0.0709 - accuracy: 0.9230 - val_loss: 0.0814 - val_accuracy: 0.8917\n",
            "Epoch 13/20\n",
            "30/30 [==============================] - 1s 45ms/step - loss: 0.0645 - accuracy: 0.9307 - val_loss: 0.0815 - val_accuracy: 0.8916\n",
            "Epoch 14/20\n",
            "30/30 [==============================] - 1s 40ms/step - loss: 0.0596 - accuracy: 0.9363 - val_loss: 0.0818 - val_accuracy: 0.8918\n",
            "Epoch 15/20\n",
            "30/30 [==============================] - 1s 43ms/step - loss: 0.0561 - accuracy: 0.9403 - val_loss: 0.0817 - val_accuracy: 0.8913\n",
            "Epoch 16/20\n",
            "30/30 [==============================] - 1s 37ms/step - loss: 0.0510 - accuracy: 0.9475 - val_loss: 0.0823 - val_accuracy: 0.8887\n",
            "Epoch 17/20\n",
            "30/30 [==============================] - 1s 43ms/step - loss: 0.0475 - accuracy: 0.9485 - val_loss: 0.0832 - val_accuracy: 0.8890\n",
            "Epoch 18/20\n",
            "30/30 [==============================] - 1s 39ms/step - loss: 0.0454 - accuracy: 0.9519 - val_loss: 0.0840 - val_accuracy: 0.8889\n",
            "Epoch 19/20\n",
            "30/30 [==============================] - 1s 36ms/step - loss: 0.0410 - accuracy: 0.9582 - val_loss: 0.0856 - val_accuracy: 0.8875\n",
            "Epoch 20/20\n",
            "30/30 [==============================] - 1s 47ms/step - loss: 0.0371 - accuracy: 0.9620 - val_loss: 0.0863 - val_accuracy: 0.8865\n"
          ]
        }
      ]
    },
    {
      "cell_type": "markdown",
      "metadata": {
        "id": "1uMnFJNAQlG6"
      },
      "source": [
        "### **Summary of Model 9**\n",
        "\n",
        "|Model Iteration:| Units:| Hidden Layers: |Optimizer:|Learning Rate:| L1 Value: | L2 Value: |Dropout Value:| Minimum Loss:| Maximum Accuracy:  |\n",
        "|:-----:|:-------:|:-------:|:-------:|:------:|:---:|:----:|:-------:|:--------:|:-------------:|\n",
        "|1  |16, 16, 1  |3  |rmsprop  |N/A  |N/A  |N/A  |N/A  |0.1252  |0.8924\n",
        "|2  |16, 16, 1  |3  |rmsprop  |N/A  |N/A  |N/A  |N/A  |0.0823  |0.8899\n",
        "|3  |16, 16, 1  |3  |adam  |N/A  |N/A  |N/A  |N/A  |0.0843  |0.8904\n",
        "|4  |16, 16, 1  |3  |adam  |0.001  |N/A  |N/A  |N/A  |0.0834  |0.8907\n",
        "|5  |32, 32, 1  |3  |adam  |0.001  |N/A  |N/A  |N/A  |0.0834  |0.8924\n",
        "|6  |16, 16, 1  |3  |adam  |0.001  |N/A  |N/A  |N/A  |0.0838  |0.8904\n",
        "|7  |16, 16, 1  |3  |adam  |0.001  |0.001  |N/A  |N/A  |0.1738  |0.8731\n",
        "|8  |16, 16, 1  |3  |adam  |0.001  |N/A  |0.001  |N/A  |0.1205  |0.8857\n",
        "|9  |16, 16, 1  |3  |adam  |0.0005  |N/A  |N/A  |0.5  |0.0814  |0.8933\n",
        "\n",
        "The outputs from the model 9 training data shows that the model was able to achieve a maximum accuracy of 0.8933 after 10 epochs as well as a minimum loss of 0.0814 after 12 epochs. This shows that adding dropout layers as well as decreasing the learning rate helped the validation loss to drastically be reduced whilst also producing a high validation accuracy, which is ideal for an optimal model. Therefore, dropout layers and the learning rate of 0.0005 will be retained as part of the final production model."
      ]
    },
    {
      "cell_type": "markdown",
      "metadata": {
        "id": "Vnnr83F_y4K0"
      },
      "source": [
        "## **Results**"
      ]
    },
    {
      "cell_type": "markdown",
      "metadata": {
        "id": "iImj8C7_jEoQ"
      },
      "source": [
        "### **Model 1 Loss and Accuracy Plots**"
      ]
    },
    {
      "cell_type": "code",
      "metadata": {
        "colab": {
          "base_uri": "https://localhost:8080/",
          "height": 607
        },
        "id": "Ns3-boOS7lk-",
        "outputId": "fee05786-8890-4e73-c946-db5d9e132d3c"
      },
      "source": [
        "plot_loss(history_model_1)\n",
        "\n",
        "# plots the accuracy graph\n",
        "acc = history_model_1.history['accuracy']\n",
        "val_acc = history_model_1.history['val_accuracy']\n",
        "epochs = range(1, len(acc) + 1)\n",
        "\n",
        "plot_accuracy(history_model_1, acc, val_acc, epochs)"
      ],
      "execution_count": null,
      "outputs": [
        {
          "output_type": "display_data",
          "data": {
            "image/png": "[encoded data removed]",
            "text/plain": [
              "<Figure size 432x288 with 1 Axes>"
            ]
          },
          "metadata": {
            "needs_background": "light"
          }
        },
        {
          "output_type": "stream",
          "name": "stdout",
          "text": [
            "\n",
            "\n"
          ]
        },
        {
          "output_type": "display_data",
          "data": {
            "image/png": "[encoded data removed]",
            "text/plain": [
              "<Figure size 432x288 with 1 Axes>"
            ]
          },
          "metadata": {
            "needs_background": "light"
          }
        }
      ]
    },
    {
      "cell_type": "markdown",
      "metadata": {
        "id": "MwbNXsvkOblK"
      },
      "source": [
        "As plotted on the graph, model 1 shows substantial decrease in validation accuracy as well as a rapid increase in validation loss after the 3rd epoch. This is a clear sign of overfitting, which has resulted in poor performance of the model."
      ]
    },
    {
      "cell_type": "markdown",
      "metadata": {
        "id": "4B2cjhGE3uX4"
      },
      "source": [
        "### **Model 2 Loss and Accuracy Plots**"
      ]
    },
    {
      "cell_type": "code",
      "metadata": {
        "colab": {
          "base_uri": "https://localhost:8080/",
          "height": 607
        },
        "id": "DGuYe1W53uX4",
        "outputId": "6a25ab39-7175-4403-a366-84ebf6970ed2"
      },
      "source": [
        "plot_loss(history_model_2)\n",
        "\n",
        "# plots the accuracy graph\n",
        "acc = history_model_2.history['accuracy']\n",
        "val_acc = history_model_2.history['val_accuracy']\n",
        "epochs = range(1, len(acc) + 1)\n",
        "\n",
        "plot_accuracy(history_model_2, acc, val_acc, epochs)"
      ],
      "execution_count": null,
      "outputs": [
        {
          "output_type": "display_data",
          "data": {
            "image/png": "[encoded data removed]",
            "text/plain": [
              "<Figure size 432x288 with 1 Axes>"
            ]
          },
          "metadata": {
            "needs_background": "light"
          }
        },
        {
          "output_type": "stream",
          "name": "stdout",
          "text": [
            "\n",
            "\n"
          ]
        },
        {
          "output_type": "display_data",
          "data": {
            "image/png": "[encoded data removed]",
            "text/plain": [
              "<Figure size 432x288 with 1 Axes>"
            ]
          },
          "metadata": {
            "needs_background": "light"
          }
        }
      ]
    },
    {
      "cell_type": "markdown",
      "metadata": {
        "id": "EdM5cJLjOdd2"
      },
      "source": [
        "The plotted graphs from model 2 shows consistent overfitting as previously shown in model 1. Although the maximum accuracy is less than that of the previous iteration, the model was able to achieve a lower loss. Therefore, it has been decided that the `mse` loss function will be retained for the next ierations."
      ]
    },
    {
      "cell_type": "markdown",
      "metadata": {
        "id": "fruj4C8ajFV4"
      },
      "source": [
        "### **Model 3 Loss and Accuracy Plots**"
      ]
    },
    {
      "cell_type": "code",
      "metadata": {
        "colab": {
          "base_uri": "https://localhost:8080/",
          "height": 607
        },
        "id": "puifbAwU7mJ1",
        "outputId": "3c51e3cd-41d2-455f-b2d0-a0de2837ab73"
      },
      "source": [
        "plot_loss(history_model_3)\n",
        "\n",
        "# plots the accuracy graph\n",
        "acc = history_model_3.history['accuracy']\n",
        "val_acc = history_model_3.history['val_accuracy']\n",
        "epochs = range(1, len(acc) + 1)\n",
        "\n",
        "plot_accuracy(history_model_3, acc, val_acc, epochs)"
      ],
      "execution_count": null,
      "outputs": [
        {
          "output_type": "display_data",
          "data": {
            "image/png": "[encoded data removed]",
            "text/plain": [
              "<Figure size 432x288 with 1 Axes>"
            ]
          },
          "metadata": {
            "needs_background": "light"
          }
        },
        {
          "output_type": "stream",
          "name": "stdout",
          "text": [
            "\n",
            "\n"
          ]
        },
        {
          "output_type": "display_data",
          "data": {
            "image/png": "[encoded data removed]",
            "text/plain": [
              "<Figure size 432x288 with 1 Axes>"
            ]
          },
          "metadata": {
            "needs_background": "light"
          }
        }
      ]
    },
    {
      "cell_type": "markdown",
      "metadata": {
        "id": "0lK51SMVOeT2"
      },
      "source": [
        "The plotted graphs for model 3 shows that the model achieved a higher accuracy at the third epoch when compared with the previous iteration. Although there are still signs of overfitting in the model, it may be that tuning the learning rate of optimiser could improve the performance. Therefore, the `adam` optimiser function will be retained for the model iteration."
      ]
    },
    {
      "cell_type": "markdown",
      "metadata": {
        "id": "1vdeoxAgjFnK"
      },
      "source": [
        "### **Model 4 Loss and Accuracy Plots**"
      ]
    },
    {
      "cell_type": "code",
      "metadata": {
        "colab": {
          "base_uri": "https://localhost:8080/",
          "height": 607
        },
        "id": "wBowN2Fu7mnD",
        "outputId": "be2af686-8020-4482-81f8-1ce8498639b3"
      },
      "source": [
        "plot_loss(history_model_4)\n",
        "\n",
        "# plots the accuracy graph\n",
        "acc = history_model_4.history['accuracy']\n",
        "val_acc = history_model_4.history['val_accuracy']\n",
        "epochs = range(1, len(acc) + 1)\n",
        "\n",
        "plot_accuracy(history_model_4, acc, val_acc, epochs)"
      ],
      "execution_count": null,
      "outputs": [
        {
          "output_type": "display_data",
          "data": {
            "image/png": "[encoded data removed]",
            "text/plain": [
              "<Figure size 432x288 with 1 Axes>"
            ]
          },
          "metadata": {
            "needs_background": "light"
          }
        },
        {
          "output_type": "stream",
          "name": "stdout",
          "text": [
            "\n",
            "\n"
          ]
        },
        {
          "output_type": "display_data",
          "data": {
            "image/png": "[encoded data removed]",
            "text/plain": [
              "<Figure size 432x288 with 1 Axes>"
            ]
          },
          "metadata": {
            "needs_background": "light"
          }
        }
      ]
    },
    {
      "cell_type": "markdown",
      "metadata": {
        "id": "8uqBhNQWOfNI"
      },
      "source": [
        "The plotted graphs for model 4 shows less overfitting when compared with model 3. Although the difference is vague, the learning rate of 0.001 will be retained to further improve the model in the next iteration."
      ]
    },
    {
      "cell_type": "markdown",
      "metadata": {
        "id": "GmPj2JmLjFuT"
      },
      "source": [
        "### **Model 5 Loss and Accuracy Plots**"
      ]
    },
    {
      "cell_type": "code",
      "metadata": {
        "colab": {
          "base_uri": "https://localhost:8080/",
          "height": 607
        },
        "id": "xpn6y0r27nHP",
        "outputId": "75ae0cd8-fbf8-4d3f-915c-4f5d197c87fb"
      },
      "source": [
        "plot_loss(history_model_5)\n",
        "\n",
        "# plots the accuracy graph\n",
        "acc = history_model_5.history['accuracy']\n",
        "val_acc = history_model_5.history['val_accuracy']\n",
        "epochs = range(1, len(acc) + 1)\n",
        "\n",
        "plot_accuracy(history_model_5, acc, val_acc, epochs)"
      ],
      "execution_count": null,
      "outputs": [
        {
          "output_type": "display_data",
          "data": {
            "image/png": "[encoded data removed]",
            "text/plain": [
              "<Figure size 432x288 with 1 Axes>"
            ]
          },
          "metadata": {
            "needs_background": "light"
          }
        },
        {
          "output_type": "stream",
          "name": "stdout",
          "text": [
            "\n",
            "\n"
          ]
        },
        {
          "output_type": "display_data",
          "data": {
            "image/png": "[encoded data removed]",
            "text/plain": [
              "<Figure size 432x288 with 1 Axes>"
            ]
          },
          "metadata": {
            "needs_background": "light"
          }
        }
      ]
    },
    {
      "cell_type": "markdown",
      "metadata": {
        "id": "QK8oDmtHOgAk"
      },
      "source": [
        "The plotted graphs above shows that model 5 starts to deteriorate in accuracy and rapidly increase in loss immediately after the second epoch. This showed more overfitting than the previous model, and therefore it was decided to have 16 units for the layer 1 hyperparameter instead of 32."
      ]
    },
    {
      "cell_type": "markdown",
      "metadata": {
        "id": "DALox-IP67r3"
      },
      "source": [
        "### **Model 6 Loss and Accuracy Plots**"
      ]
    },
    {
      "cell_type": "code",
      "metadata": {
        "colab": {
          "base_uri": "https://localhost:8080/",
          "height": 607
        },
        "id": "i5QyB8ch7qTb",
        "outputId": "f6c687e7-bd6d-4ed1-e08f-d03cc4781b3f"
      },
      "source": [
        "plot_loss(history_model_6)\n",
        "\n",
        "# plots the accuracy graph\n",
        "acc = history_model_6.history['accuracy']\n",
        "val_acc = history_model_6.history['val_accuracy']\n",
        "epochs = range(1, len(acc) + 1)\n",
        "\n",
        "plot_accuracy(history_model_6, acc, val_acc, epochs)"
      ],
      "execution_count": null,
      "outputs": [
        {
          "output_type": "display_data",
          "data": {
            "image/png": "[encoded data removed]",
            "text/plain": [
              "<Figure size 432x288 with 1 Axes>"
            ]
          },
          "metadata": {
            "needs_background": "light"
          }
        },
        {
          "output_type": "stream",
          "name": "stdout",
          "text": [
            "\n",
            "\n"
          ]
        },
        {
          "output_type": "display_data",
          "data": {
            "image/png": "[encoded data removed]",
            "text/plain": [
              "<Figure size 432x288 with 1 Axes>"
            ]
          },
          "metadata": {
            "needs_background": "light"
          }
        }
      ]
    },
    {
      "cell_type": "markdown",
      "metadata": {
        "id": "NQP9zBM8OgvU"
      },
      "source": [
        "The plotted graphs above shows that model 6 starts to degrade in accuracy and rapidly increase in loss immediately after the third epoch. This is a clear sign of overfitting and shows that replacing `relu` with `tanh` didn't improve the performance of the model."
      ]
    },
    {
      "cell_type": "markdown",
      "metadata": {
        "id": "gZZX323k68gy"
      },
      "source": [
        "### **Model 7 Loss and Accuracy Plots**"
      ]
    },
    {
      "cell_type": "code",
      "metadata": {
        "colab": {
          "base_uri": "https://localhost:8080/",
          "height": 919
        },
        "id": "vVRSXZJG7o37",
        "outputId": "2bddc412-3a45-4258-9ae8-2729c12a6cb8"
      },
      "source": [
        "plot_loss(history_model_7)\n",
        "\n",
        "# plots the accuracy graph with overfitting\n",
        "acc = history_model_7.history['accuracy']\n",
        "val_acc = history_model_7.history['val_accuracy']\n",
        "epochs = range(1, len(acc) + 1)\n",
        "\n",
        "plot_accuracy(history_model_7, acc, val_acc, epochs)\n",
        "\n",
        "# plots the accuracy graph without overfitting\n",
        "acc = history_model_7.history['accuracy'][0:4]\n",
        "val_acc = history_model_7.history['val_accuracy'][0:4]\n",
        "epochs = range(1, len(acc) + 1)\n",
        "\n",
        "plot_accuracy(history_model_7, acc, val_acc, epochs)"
      ],
      "execution_count": null,
      "outputs": [
        {
          "output_type": "display_data",
          "data": {
            "image/png": "[encoded data removed]",
            "text/plain": [
              "<Figure size 432x288 with 1 Axes>"
            ]
          },
          "metadata": {
            "needs_background": "light"
          }
        },
        {
          "output_type": "stream",
          "name": "stdout",
          "text": [
            "\n",
            "\n"
          ]
        },
        {
          "output_type": "display_data",
          "data": {
            "image/png": "[encoded data removed]",
            "text/plain": [
              "<Figure size 432x288 with 1 Axes>"
            ]
          },
          "metadata": {
            "needs_background": "light"
          }
        },
        {
          "output_type": "stream",
          "name": "stdout",
          "text": [
            "\n",
            "\n"
          ]
        },
        {
          "output_type": "display_data",
          "data": {
            "image/png": "[encoded data removed]",
            "text/plain": [
              "<Figure size 432x288 with 1 Axes>"
            ]
          },
          "metadata": {
            "needs_background": "light"
          }
        }
      ]
    },
    {
      "cell_type": "markdown",
      "metadata": {
        "id": "d8t8uKPTOhk8"
      },
      "source": [
        "The plotted graphs above shows that model 7 achieved a stable accuracy and minimum loss at 20 epochs. The graph doesn't show any signs of overfitting which means there are no significant performance issues with model 7. This shows that adding L1 regularisation has had an effect in reducing overfitting on the model."
      ]
    },
    {
      "cell_type": "markdown",
      "metadata": {
        "id": "76owGtBw68n2"
      },
      "source": [
        "### **Model 8 Loss and Accuracy Plots**"
      ]
    },
    {
      "cell_type": "code",
      "metadata": {
        "colab": {
          "base_uri": "https://localhost:8080/",
          "height": 607
        },
        "id": "UZUJzb3y7odL",
        "outputId": "49633587-1a0e-476e-8dd8-82c0961bb5ee"
      },
      "source": [
        "plot_loss(history_model_8)\n",
        "\n",
        "# plots the accuracy graph\n",
        "acc = history_model_8.history['accuracy']\n",
        "val_acc = history_model_8.history['val_accuracy']\n",
        "epochs = range(1, len(acc) + 1)\n",
        "\n",
        "plot_accuracy(history_model_8, acc, val_acc, epochs)"
      ],
      "execution_count": null,
      "outputs": [
        {
          "output_type": "display_data",
          "data": {
            "image/png": "[encoded data removed]",
            "text/plain": [
              "<Figure size 432x288 with 1 Axes>"
            ]
          },
          "metadata": {
            "needs_background": "light"
          }
        },
        {
          "output_type": "stream",
          "name": "stdout",
          "text": [
            "\n",
            "\n"
          ]
        },
        {
          "output_type": "display_data",
          "data": {
            "image/png": "[encoded data removed]",
            "text/plain": [
              "<Figure size 432x288 with 1 Axes>"
            ]
          },
          "metadata": {
            "needs_background": "light"
          }
        }
      ]
    },
    {
      "cell_type": "markdown",
      "metadata": {
        "id": "_QaJ7kHqOild"
      },
      "source": [
        "The plotted graphs above shows that model 8 starts to degrade in accuracy and rapidly increase in loss immediately after the second epoch. This is a clear sign of overfitting and therefore has had an effect on the performance of the model."
      ]
    },
    {
      "cell_type": "markdown",
      "metadata": {
        "id": "YL03iiUb68uy"
      },
      "source": [
        "### **Model 9 Loss and Accuracy Plots**"
      ]
    },
    {
      "cell_type": "code",
      "metadata": {
        "colab": {
          "base_uri": "https://localhost:8080/",
          "height": 919
        },
        "id": "zVloaHLZ7oF4",
        "outputId": "601a072e-61ef-4f8c-fca8-6cf0c48376d5"
      },
      "source": [
        "plot_loss(history_model_9)\n",
        "\n",
        "# plots the accuracy graph with overfitting\n",
        "acc = history_model_9.history['accuracy']\n",
        "val_acc = history_model_9.history['val_accuracy']\n",
        "epochs = range(1, len(acc) + 1)\n",
        "\n",
        "plot_accuracy(history_model_9, acc, val_acc, epochs)\n",
        "\n",
        "# # plots the accuracy graph without overfitting\n",
        "acc = history_model_9.history['accuracy'][0:10]\n",
        "val_acc = history_model_9.history['val_accuracy'][0:10]\n",
        "epochs = range(1, len(acc) + 1)\n",
        "\n",
        "plot_accuracy(history_model_9, acc, val_acc, epochs)"
      ],
      "execution_count": null,
      "outputs": [
        {
          "output_type": "display_data",
          "data": {
            "image/png": "[encoded data removed]",
            "text/plain": [
              "<Figure size 432x288 with 1 Axes>"
            ]
          },
          "metadata": {
            "needs_background": "light"
          }
        },
        {
          "output_type": "stream",
          "name": "stdout",
          "text": [
            "\n",
            "\n"
          ]
        },
        {
          "output_type": "display_data",
          "data": {
            "image/png": "[encoded data removed]",
            "text/plain": [
              "<Figure size 432x288 with 1 Axes>"
            ]
          },
          "metadata": {
            "needs_background": "light"
          }
        },
        {
          "output_type": "stream",
          "name": "stdout",
          "text": [
            "\n",
            "\n"
          ]
        },
        {
          "output_type": "display_data",
          "data": {
            "image/png": "[encoded data removed]",
            "text/plain": [
              "<Figure size 432x288 with 1 Axes>"
            ]
          },
          "metadata": {
            "needs_background": "light"
          }
        }
      ]
    },
    {
      "cell_type": "markdown",
      "metadata": {
        "id": "oURz5eUdOmzR"
      },
      "source": [
        "The plotted graphs above shows that model 9 achieved a high accuracy and minimum loss at 10 epochs, and then started to overfit after. This shows that model 9 performs at its optimum at 10 epochs. Since model 9 was able to achieve a higher accuracy and lower loss than any other iteration at 10 epochs, it is clear that the model 9 architecture will be used in the final production model."
      ]
    },
    {
      "cell_type": "markdown",
      "metadata": {
        "id": "1qaHhZYD0Del"
      },
      "source": [
        "### **Final Production Model Evaluation**"
      ]
    },
    {
      "cell_type": "markdown",
      "metadata": {
        "id": "W7vXgsXS0si2"
      },
      "source": [
        "The final production model has been developed with the same parameters and model architecture from the model 9 iteration. The model has then been trained on the training dataset for 10 epochs, and finally evaluated on the test dataset."
      ]
    },
    {
      "cell_type": "code",
      "metadata": {
        "colab": {
          "base_uri": "https://localhost:8080/"
        },
        "id": "JTDLPSBS0Der",
        "outputId": "ecccf9d7-ec81-4297-fdf7-a50ef9279b66"
      },
      "source": [
        "# build final model\n",
        "model = models.Sequential()\n",
        "model.add(layers.Dense(16, activation = 'relu', input_shape = (10000,)))\n",
        "model.add(layers.Dropout(0.5))\n",
        "model.add(layers.Dense(16, activation = 'relu'))\n",
        "model.add(layers.Dropout(0.5))\n",
        "model.add(layers.Dense(1, activation = 'sigmoid'))\n",
        "\n",
        "# compile final model\n",
        "model.compile(optimizer=optimizers.Adam(learning_rate=0.0005), loss='mse', metrics=['accuracy'])\n",
        "\n",
        "# train final model\n",
        "model.fit(x_train, \n",
        "          y_train,\n",
        "          epochs=10,\n",
        "          batch_size=512)\n",
        "\n",
        "# evaluate final model with the test data\n",
        "test_results = model.evaluate(x_test, y_test)\n",
        "print(test_results)"
      ],
      "execution_count": null,
      "outputs": [
        {
          "output_type": "stream",
          "name": "stdout",
          "text": [
            "Epoch 1/10\n",
            "49/49 [==============================] - 2s 31ms/step - loss: 0.2312 - accuracy: 0.6052\n",
            "Epoch 2/10\n",
            "49/49 [==============================] - 2s 34ms/step - loss: 0.1838 - accuracy: 0.7388\n",
            "Epoch 3/10\n",
            "49/49 [==============================] - 1s 29ms/step - loss: 0.1493 - accuracy: 0.8120\n",
            "Epoch 4/10\n",
            "49/49 [==============================] - 1s 27ms/step - loss: 0.1272 - accuracy: 0.8520\n",
            "Epoch 5/10\n",
            "49/49 [==============================] - 1s 30ms/step - loss: 0.1104 - accuracy: 0.8762\n",
            "Epoch 6/10\n",
            "49/49 [==============================] - 1s 30ms/step - loss: 0.0959 - accuracy: 0.8978\n",
            "Epoch 7/10\n",
            "49/49 [==============================] - 2s 32ms/step - loss: 0.0854 - accuracy: 0.9113\n",
            "Epoch 8/10\n",
            "49/49 [==============================] - 2s 35ms/step - loss: 0.0774 - accuracy: 0.9198\n",
            "Epoch 9/10\n",
            "49/49 [==============================] - 2s 35ms/step - loss: 0.0681 - accuracy: 0.9298\n",
            "Epoch 10/10\n",
            "49/49 [==============================] - 2s 35ms/step - loss: 0.0617 - accuracy: 0.9364\n",
            "782/782 [==============================] - 2s 2ms/step - loss: 0.0833 - accuracy: 0.8884\n",
            "[0.08325306326150894, 0.8884400129318237]\n"
          ]
        }
      ]
    },
    {
      "cell_type": "markdown",
      "metadata": {
        "id": "TzeEo80fJNZu"
      },
      "source": [
        "### **Summary of Final Production Model**\n",
        "\n",
        "|Model Iteration:| Units:| Hidden Layers: |Optimizer:|Learning Rate:| L1 Val: | L2 Val: |Dropout Val:| Minimum Loss:| Maximum Accuracy:  |\n",
        "|:-----:|:-------:|:-------:|:-------:|:------:|:---:|:----:|:-------:|:--------:|:-------------:|\n",
        "|1  |16, 16, 1  |3  |rmsprop  |N/A  |N/A  |N/A  |N/A  |0.1242  |0.8874\n",
        "|9  |16, 16, 1  |3  |adam  |0.0005  |N/A  |N/A  |0.5  |0.0814  |0.8933\n",
        "|Final  |16, 16, 1  |3  |adam  |0.0005  |N/A  |N/A  |0.5  |0.0833  |0.8884\n",
        "\n",
        "\n",
        "The test results from the final production model evalulation shows that the model was able to achieve an accuracy of 0.8884 and a loss of 0.0833 when validated with the test data. These results are almost similar when compared with the validation loss and validation accuracy from the model 9 iteration. Although model 9 has slightly better results, it is clear that there were no significant performance issues with the final production model as it was able to achieve 88% accuracy in predicting unique movie reviews."
      ]
    },
    {
      "cell_type": "markdown",
      "metadata": {
        "id": "cvsBv18_MTNZ"
      },
      "source": [
        "### **Final Production Model Predictions**"
      ]
    },
    {
      "cell_type": "markdown",
      "metadata": {
        "id": "ZtP8EMoIYFKi"
      },
      "source": [
        "In the cell below, we can see an output of the first 10 predictions of positive/negative movie reviews against the actual reviews. The reviews are represented as numbers, 0 being a negative review and 1 being a positive review. After analysing this data, it is evident that the model predictions are not entirely accurate as there are discrepancies with some predicted reviews when compared with the test labels."
      ]
    },
    {
      "cell_type": "code",
      "metadata": {
        "colab": {
          "base_uri": "https://localhost:8080/"
        },
        "id": "7bopFV_LK1RP",
        "outputId": "7a289ae2-2a0a-40b7-a6d5-9a63a492f094"
      },
      "source": [
        "for i in range(10):\n",
        "    predictions = model.predict(x_test[i:i+1])[0][0]\n",
        "    print(\"Review \" + str(i+1))\n",
        "    print(\"Predicted: \" + str(round(predictions)))\n",
        "    print(\"Label: \" + str(test_labels[i]))\n",
        "    print()"
      ],
      "execution_count": null,
      "outputs": [
        {
          "output_type": "stream",
          "name": "stdout",
          "text": [
            "Review 1\n",
            "Predicted: 0\n",
            "Label: 0\n",
            "\n",
            "Review 2\n",
            "Predicted: 1\n",
            "Label: 1\n",
            "\n",
            "Review 3\n",
            "Predicted: 1\n",
            "Label: 1\n",
            "\n",
            "Review 4\n",
            "Predicted: 1\n",
            "Label: 0\n",
            "\n",
            "Review 5\n",
            "Predicted: 1\n",
            "Label: 1\n",
            "\n",
            "Review 6\n",
            "Predicted: 1\n",
            "Label: 1\n",
            "\n",
            "Review 7\n",
            "Predicted: 1\n",
            "Label: 1\n",
            "\n",
            "Review 8\n",
            "Predicted: 0\n",
            "Label: 0\n",
            "\n",
            "Review 9\n",
            "Predicted: 1\n",
            "Label: 0\n",
            "\n",
            "Review 10\n",
            "Predicted: 1\n",
            "Label: 1\n",
            "\n"
          ]
        }
      ]
    },
    {
      "cell_type": "markdown",
      "metadata": {
        "id": "4RJFDioWN6X2"
      },
      "source": [
        "### **Example of a positive review**"
      ]
    },
    {
      "cell_type": "markdown",
      "metadata": {
        "id": "h1t-wNfHX1Gi"
      },
      "source": [
        "In the cell below, we can see an accurate positive review as the model has classified this review to be positive using the label 1. The corresponding test label has confirmed this by also displaying a 1."
      ]
    },
    {
      "cell_type": "code",
      "metadata": {
        "colab": {
          "base_uri": "https://localhost:8080/"
        },
        "id": "yHMgDqv5N6X2",
        "outputId": "78eedddc-eedd-433f-9048-9c698de41840"
      },
      "source": [
        "predictions = model.predict(x_test[2:3])[0][0]\n",
        "\n",
        "print(\"Review 3: \" + str(review_decoder(test_data[2])))\n",
        "print(\"Predicted: \" + str(round(predictions)))\n",
        "print(\"Label: \" + str(test_labels[2]))"
      ],
      "execution_count": null,
      "outputs": [
        {
          "output_type": "stream",
          "name": "stdout",
          "text": [
            "Review 3: ? many animation buffs consider ? ? the great forgotten genius of one special branch of the art puppet animation which he invented almost single ? and as it happened almost accidentally as a young man ? was more interested in ? than the cinema but his ? attempt to film two ? ? fighting led to an unexpected breakthrough in film making when he realized he could ? movement by ? beetle ? and ? them one frame at a time this discovery led to the production of amazingly elaborate classic short the ? revenge which he made in russia in ? at a time when motion picture animation of all sorts was in its ? br br the political ? of the russian revolution caused ? to move to paris where one of his first productions ? was a dark political satire ? known as ? or the ? who wanted a king a strain of black comedy can be found in almost all of films but here it is very dark indeed aimed more at grown ups who can appreciate the satirical aspects than children who would most likely find the climax ? i'm middle aged and found it pretty ? myself and indeed ? of the film intended for english speaking viewers of the 1920s were given title cards filled with ? and ? in order to help ? the sharp ? of the finale br br our tale is set in a swamp the ? ? where the citizens are unhappy with their government and have called a special session to see what they can do to improve matters they decide to ? ? for a king the crowds are ? animated in this opening sequence it couldn't have been easy to make so many frog puppets look alive simultaneously while ? for his part is depicted as a ? white ? guy in the clouds who looks like he'd rather be taking a ? when ? sends them a tree like god who regards them the ? decide that this is no improvement and demand a different king irritated ? sends them a ? br br delighted with this ? looking new king who towers above them the ? welcome him with a ? of ? dressed ? the mayor steps forward to hand him the key to the ? as ? cameras record the event to everyone's horror the ? promptly eats the mayor and then goes on a merry rampage ? citizens at random a title card ? reads news of the king's ? throughout the kingdom when the now terrified ? once more ? ? for help he loses his temper and ? their community with lightning ? the moral of our story delivered by a hapless frog just before he is eaten is let well enough alone br br considering the time period when this startling little film was made and considering the fact that it was made by a russian ? at the height of that ? country's civil war it would be easy to see this as a ? about those events ? may or may not have had ? turmoil in mind when he made ? but whatever ? his choice of material the film stands as a ? tale of universal ? ? could be the soviet union italy germany or japan in the 1930s or any country of any era that lets its guard down and is overwhelmed by ? it's a fascinating film even a charming one in its macabre way but its message is no joke\n",
            "Predicted: 1\n",
            "Label: 1\n"
          ]
        }
      ]
    },
    {
      "cell_type": "markdown",
      "metadata": {
        "id": "jvLzwvD7MbL5"
      },
      "source": [
        "### **Example of a negative review**"
      ]
    },
    {
      "cell_type": "markdown",
      "metadata": {
        "id": "OMYvX50FX0W0"
      },
      "source": [
        "In the cell below, we can see an accurate negative review as the model has classified this review to be negative using the label 0. The corresponding test label has confirmed this by also displaying a 0."
      ]
    },
    {
      "cell_type": "code",
      "metadata": {
        "colab": {
          "base_uri": "https://localhost:8080/"
        },
        "id": "LoNstAu7MbL5",
        "outputId": "c9641da8-d4f1-444a-ef48-aee4b88e7369"
      },
      "source": [
        "predictions = model.predict(x_test[0:1])[0][0]\n",
        "\n",
        "print(\"Review 1: \" + str(review_decoder(test_data[0])))\n",
        "print(\"Predicted: \" + str(round(predictions)))\n",
        "print(\"Label: \" + str(test_labels[0]))"
      ],
      "execution_count": null,
      "outputs": [
        {
          "output_type": "stream",
          "name": "stdout",
          "text": [
            "Review 1: ? please give this one a miss br br ? ? and the rest of the cast rendered terrible performances the show is flat flat flat br br i don't know how michael madison could have allowed this one on his plate he almost seemed to know this wasn't going to work out and his performance was quite ? so all you madison fans give this a miss\n",
            "Predicted: 0\n",
            "Label: 0\n"
          ]
        }
      ]
    },
    {
      "cell_type": "markdown",
      "metadata": {
        "id": "ZToANL-LXamJ"
      },
      "source": [
        "### **Example of an inaccurate review**"
      ]
    },
    {
      "cell_type": "markdown",
      "metadata": {
        "id": "lwhz2LaPX2nH"
      },
      "source": [
        "In the cell below, we can see that model isn't entirely accurate in classifying a positive/negative review. In this case, we can see that model has classified this review as positive by displaying a 1, when in fact the review was actually negative. This is confirmed by the corresponding test label which has displayed a 0."
      ]
    },
    {
      "cell_type": "code",
      "metadata": {
        "colab": {
          "base_uri": "https://localhost:8080/"
        },
        "id": "olMfYVceXamJ",
        "outputId": "13e50c7c-042d-4fed-a9ce-5f9df20bad46"
      },
      "source": [
        "predictions = model.predict(x_test[8:9])[0][0]\n",
        "\n",
        "print(\"Review 9: \" + str(review_decoder(test_data[8])))\n",
        "print(\"Predicted: \" + str(round(predictions)))\n",
        "print(\"Label: \" + str(test_labels[8]))"
      ],
      "execution_count": null,
      "outputs": [
        {
          "output_type": "stream",
          "name": "stdout",
          "text": [
            "Review 9: ? hollywood had a long love affair with bogus ? nights tales but few of these products have stood the test of time the most memorable were the jon hall maria ? films which have long since become camp this one is filled with dubbed songs ? ? and slapstick it's a truly crop of corn and pretty near ? today it was nominated for its imaginative special effects which are almost ? in this day and age ? mainly of trick photography the only outstanding positive feature which survives is its beautiful color and clarity sad to say of the many films made in this genre few of them come up to alexander ? original thief of ? almost any other ? nights film is superior to this one though it's a loser\n",
            "Predicted: 1\n",
            "Label: 0\n"
          ]
        }
      ]
    },
    {
      "cell_type": "markdown",
      "metadata": {
        "id": "QjE4tdpyy4Ss"
      },
      "source": [
        "## **Conclusion**"
      ]
    },
    {
      "cell_type": "markdown",
      "metadata": {
        "id": "SWS1cltOX4Eo"
      },
      "source": [
        "Overall, a total of 9 iterations were made to the baseline model to achieve a final production model that could accurately predict movie review sentiments. These iterations comprised of, changing the loss and optimiser function to decrease, tuning the learning rate, increasing the units per layer, changing the activation functions, adding L1/L2 regularisation and dropout layers to prevent overfitting. This resulted in a validation accuracy of 88% after being evaluated with unique test data. Based on this result, it was clear that adding extra iterations could not exceed the accuracy anywhere beyond 90% regardless of how well-tuned the model was.\n",
        "\n",
        "The final production model proved the following hypotheses to be true: the outputs can be predicted based on the given inputs, and the availability of data is adequately useful to study the relationship between the inputs and outputs. These were proved based on the tests carried out after evaluating the model; the first 10 movie review sentiments were predicted by the model and were then compared against their corresponding test labels. These tests showed that the model was able to correctly predict most of the movie review sentiments. Although the model wasn’t entirely accurate, it was expected to have some discrepancies since it didn’t reach beyond 90% accuracy.\n",
        "\n",
        "The universal workflow of DLWP was helpful in supporting the development of an optimal model with greater statistical power than the baseline model. The implementation of dropout layers and reducing the learning rate were both key factors in achieving high accuracy and minimum loss without causing any significant overfitting.\n",
        "\n",
        "**Future Research**\n",
        "\n",
        "For future research, to achieve a more reliable and extensive model, it would be ideal to use cross-datasets that contain more unseen movie sentiment data. This would allow the model to be less restricted to the IMDB dataset and more widespread with different datasets that have been prepared the same way as the IMDB dataset. Nevertheless, the results from the final production model have proven to be remarkable with its high accuracy on data it hasn't even seen."
      ]
    },
    {
      "cell_type": "markdown",
      "metadata": {
        "id": "3UVitmTDpC08"
      },
      "source": [
        "### **References**"
      ]
    },
    {
      "cell_type": "markdown",
      "metadata": {
        "id": "SdKwPYkpEm7j"
      },
      "source": [
        "- Chollet, F: \"Deep Learning with Python\", 2018\n",
        "- Blackwell, T: Artificial Intelligence, Coursework Examples, 2021"
      ]
    }
  ]
}